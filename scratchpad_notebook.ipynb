{
 "cells": [
  {
   "cell_type": "markdown",
   "metadata": {},
   "source": [
    "# Harry Potter Lookup Notebook"
   ]
  },
  {
   "cell_type": "markdown",
   "metadata": {},
   "source": [
    "Scratch pad notebook for solving problems with the main program"
   ]
  },
  {
   "cell_type": "code",
   "execution_count": 37,
   "metadata": {},
   "outputs": [],
   "source": [
    "import pandas as pd\n",
    "import numpy as np\n",
    "import os\n",
    "import time"
   ]
  },
  {
   "cell_type": "code",
   "execution_count": 7,
   "metadata": {},
   "outputs": [],
   "source": [
    "#import data from google sheet\n",
    "sheeturl = 'https://docs.google.com/spreadsheets/d/1xGsJmr-7mEmIDxnRcFsFLbo-UR8JH68jZVm7gb8yqbk/edit#gid=0'\n",
    "csv_export_url = sheeturl.replace('/edit#gid=', '/export?format=csv&gid=')\n",
    "#df = pd.read_csv(csv_export_url)"
   ]
  },
  {
   "cell_type": "code",
   "execution_count": 6,
   "metadata": {},
   "outputs": [],
   "source": [
    "# import data from downloaded csv\n",
    "df = pd.read_csv('charachter_list.csv')"
   ]
  },
  {
   "cell_type": "code",
   "execution_count": 7,
   "metadata": {},
   "outputs": [
    {
     "data": {
      "text/html": [
       "<div>\n",
       "<style scoped>\n",
       "    .dataframe tbody tr th:only-of-type {\n",
       "        vertical-align: middle;\n",
       "    }\n",
       "\n",
       "    .dataframe tbody tr th {\n",
       "        vertical-align: top;\n",
       "    }\n",
       "\n",
       "    .dataframe thead th {\n",
       "        text-align: right;\n",
       "    }\n",
       "</style>\n",
       "<table border=\"1\" class=\"dataframe\">\n",
       "  <thead>\n",
       "    <tr style=\"text-align: right;\">\n",
       "      <th></th>\n",
       "      <th>id</th>\n",
       "      <th>name</th>\n",
       "      <th>hogwarts_house</th>\n",
       "      <th>info</th>\n",
       "    </tr>\n",
       "  </thead>\n",
       "  <tbody>\n",
       "    <tr>\n",
       "      <th>0</th>\n",
       "      <td>1</td>\n",
       "      <td>harry potter</td>\n",
       "      <td>Gryffindor</td>\n",
       "      <td>The Boy Who lived. Defeated Lord Voldemort.</td>\n",
       "    </tr>\n",
       "    <tr>\n",
       "      <th>1</th>\n",
       "      <td>2</td>\n",
       "      <td>hermione granger</td>\n",
       "      <td>Gryffindor</td>\n",
       "      <td>Cleverest girl in her year at Hogwarts.</td>\n",
       "    </tr>\n",
       "    <tr>\n",
       "      <th>2</th>\n",
       "      <td>3</td>\n",
       "      <td>ron weasley</td>\n",
       "      <td>Gryffindor</td>\n",
       "      <td>Harry Potter's best friend. One of 7 Weasley c...</td>\n",
       "    </tr>\n",
       "    <tr>\n",
       "      <th>3</th>\n",
       "      <td>4</td>\n",
       "      <td>draco malfoy</td>\n",
       "      <td>Slytherin</td>\n",
       "      <td>Pure-blood snob and only son of Lucius and Nar...</td>\n",
       "    </tr>\n",
       "    <tr>\n",
       "      <th>4</th>\n",
       "      <td>5</td>\n",
       "      <td>ginny weasley</td>\n",
       "      <td>Gryffindor</td>\n",
       "      <td>Talented witch, only daughter in the Weasley f...</td>\n",
       "    </tr>\n",
       "    <tr>\n",
       "      <th>5</th>\n",
       "      <td>6</td>\n",
       "      <td>neville longbottom</td>\n",
       "      <td>Gryffindor</td>\n",
       "      <td>in the same year as Harry and his crew. Instru...</td>\n",
       "    </tr>\n",
       "    <tr>\n",
       "      <th>6</th>\n",
       "      <td>7</td>\n",
       "      <td>severus snape</td>\n",
       "      <td>Slytherin</td>\n",
       "      <td>Potions master at hogwarts until 1996. Death E...</td>\n",
       "    </tr>\n",
       "    <tr>\n",
       "      <th>7</th>\n",
       "      <td>8</td>\n",
       "      <td>minerva mcgonagall</td>\n",
       "      <td>Gryffindor</td>\n",
       "      <td>Transfiguration professor at Hogwarts and depu...</td>\n",
       "    </tr>\n",
       "  </tbody>\n",
       "</table>\n",
       "</div>"
      ],
      "text/plain": [
       "   id                name hogwarts_house  \\\n",
       "0   1        harry potter     Gryffindor   \n",
       "1   2    hermione granger     Gryffindor   \n",
       "2   3         ron weasley     Gryffindor   \n",
       "3   4        draco malfoy      Slytherin   \n",
       "4   5       ginny weasley     Gryffindor   \n",
       "5   6  neville longbottom     Gryffindor   \n",
       "6   7       severus snape      Slytherin   \n",
       "7   8  minerva mcgonagall     Gryffindor   \n",
       "\n",
       "                                                info  \n",
       "0        The Boy Who lived. Defeated Lord Voldemort.  \n",
       "1            Cleverest girl in her year at Hogwarts.  \n",
       "2  Harry Potter's best friend. One of 7 Weasley c...  \n",
       "3  Pure-blood snob and only son of Lucius and Nar...  \n",
       "4  Talented witch, only daughter in the Weasley f...  \n",
       "5  in the same year as Harry and his crew. Instru...  \n",
       "6  Potions master at hogwarts until 1996. Death E...  \n",
       "7  Transfiguration professor at Hogwarts and depu...  "
      ]
     },
     "execution_count": 7,
     "metadata": {},
     "output_type": "execute_result"
    }
   ],
   "source": [
    "df"
   ]
  },
  {
   "cell_type": "markdown",
   "metadata": {},
   "source": [
    "This for turning dataframe into dictionary\n",
    "https://pandas.pydata.org/pandas-docs/stable/reference/api/pandas.DataFrame.to_dict.html\n",
    "\n",
    "`df.to_dict('records')\n",
    "[{'col1': 1, 'col2': 0.5}, {'col1': 2, 'col2': 0.75}]"
   ]
  },
  {
   "cell_type": "code",
   "execution_count": 9,
   "metadata": {},
   "outputs": [
    {
     "data": {
      "text/plain": [
       "[{'id': 1,\n",
       "  'name': 'harry potter',\n",
       "  'hogwarts_house': 'Gryffindor',\n",
       "  'info': 'The Boy Who lived. Defeated Lord Voldemort.'},\n",
       " {'id': 2,\n",
       "  'name': 'hermione granger',\n",
       "  'hogwarts_house': 'Gryffindor',\n",
       "  'info': 'Cleverest girl in her year at Hogwarts.'},\n",
       " {'id': 3,\n",
       "  'name': 'ron weasley',\n",
       "  'hogwarts_house': 'Gryffindor',\n",
       "  'info': \"Harry Potter's best friend. One of 7 Weasley children.\"},\n",
       " {'id': 4,\n",
       "  'name': 'draco malfoy',\n",
       "  'hogwarts_house': 'Slytherin',\n",
       "  'info': \"Pure-blood snob and only son of Lucius and Narcissa. Harry Potter\\\\'s nemesis\"},\n",
       " {'id': 5,\n",
       "  'name': 'ginny weasley',\n",
       "  'hogwarts_house': 'Gryffindor',\n",
       "  'info': 'Talented witch, only daughter in the Weasley family. Married to Harry Potter'},\n",
       " {'id': 6,\n",
       "  'name': 'neville longbottom',\n",
       "  'hogwarts_house': 'Gryffindor',\n",
       "  'info': 'in the same year as Harry and his crew. Instrumental to the downfall of Lord Voldemort, killed his snake, Nagini.'},\n",
       " {'id': 7,\n",
       "  'name': 'severus snape',\n",
       "  'hogwarts_house': 'Slytherin',\n",
       "  'info': 'Potions master at hogwarts until 1996. Death Eater double agent for Albus Dumbledore. Hopelessly in love with Lilly Evans.'},\n",
       " {'id': 8,\n",
       "  'name': 'minerva mcgonagall',\n",
       "  'hogwarts_house': 'Gryffindor',\n",
       "  'info': 'Transfiguration professor at Hogwarts and deputy headmistress. Animagus, can turn into a cat.'}]"
      ]
     },
     "execution_count": 9,
     "metadata": {},
     "output_type": "execute_result"
    }
   ],
   "source": [
    "# turn dataframe into dictionary\n",
    "# yes finally!!!!!!! \n",
    "df.to_dict('records')"
   ]
  },
  {
   "cell_type": "code",
   "execution_count": 13,
   "metadata": {},
   "outputs": [],
   "source": [
    "def capitalize_name (string):\n",
    "    \"\"\"\n",
    "    This function splits a string and capitalizes every element. input is string, output is string.\n",
    "    \"\"\"\n",
    "    return ' '.join([word.capitalize() for word in string.split()])"
   ]
  },
  {
   "cell_type": "markdown",
   "metadata": {},
   "source": [
    "### JSON File import  \n",
    "- Found JSON from theJasonBarton's github project \n",
    "- This is the [repo](https://github.com/theDavidBarton/the-harry-potter-database)"
   ]
  },
  {
   "cell_type": "code",
   "execution_count": 3,
   "metadata": {},
   "outputs": [],
   "source": [
    "# import json module\n",
    "import json"
   ]
  },
  {
   "cell_type": "code",
   "execution_count": 4,
   "metadata": {},
   "outputs": [
    {
     "name": "stdout",
     "output_type": "stream",
     "text": [
      "Type: <class 'list'>\n"
     ]
    }
   ],
   "source": [
    "# Opening JSON file \n",
    "with open('characters.json') as json_file:\n",
    "    data = json.load(json_file)\n",
    "  \n",
    "    # Print the type of data variable\n",
    "    print(\"Type:\", type(data))"
   ]
  },
  {
   "cell_type": "code",
   "execution_count": 5,
   "metadata": {},
   "outputs": [
    {
     "data": {
      "text/plain": [
       "{'id': 1,\n",
       " 'name': 'Euan Abercrombie',\n",
       " 'birth': 'between 1 September 1983 and 31 August 1984',\n",
       " 'death': None,\n",
       " 'species': 'Human',\n",
       " 'ancestry': None,\n",
       " 'gender': 'Male',\n",
       " 'hair_color': None,\n",
       " 'eye_color': None,\n",
       " 'wand': None,\n",
       " 'patronus': None,\n",
       " 'house': 'Gryffindor',\n",
       " 'associated_groups': ['Hogwarts School of Witchcraft and Wizardry',\n",
       "  'Gryffindor'],\n",
       " 'books_featured_in': [5]}"
      ]
     },
     "execution_count": 5,
     "metadata": {},
     "output_type": "execute_result"
    }
   ],
   "source": [
    "# check data\n",
    "data[0]"
   ]
  },
  {
   "cell_type": "code",
   "execution_count": 241,
   "metadata": {},
   "outputs": [],
   "source": [
    "# effectively re creating the dictionary from previous versions\n",
    "hp_charachter_list = data\n",
    "\n"
   ]
  },
  {
   "cell_type": "code",
   "execution_count": 39,
   "metadata": {},
   "outputs": [
    {
     "name": "stdin",
     "output_type": "stream",
     "text": [
      "Which Harry Potter Character would you like to know more about?\n",
      "                \n",
      "(Type a single letter to see list of names beginning with that letter) :  h\n"
     ]
    },
    {
     "name": "stdout",
     "output_type": "stream",
     "text": [
      "Heathcote Barbary\n",
      "Humphrey Belcher\n",
      "Herbert Chorley\n",
      "Hector Dagworth-Granger\n",
      "Harold Dingle\n",
      "Hermione Granger's father\n",
      "Harper\n",
      "Heady\n",
      "Hereward\n",
      "Hermes\n",
      "Hogwarts Express conductor\n",
      "Hogwarts school mice\n",
      "House of Black house-elves\n",
      "Hassan Mostafa\n",
      "Harry Potter\n",
      "Horace Slughorn\n",
      "Hippocrates Smethwyck\n",
      "Hugo Granger-Weasley\n",
      "Herman Wintringham\n",
      "Hengist of Woodcroft\n",
      "Hannah Abbott's mother\n",
      "Hannah Abbott\n",
      "Hetty Bayliss\n",
      "Hermione Granger\n",
      "Hermione Granger's mother\n",
      "Hedwig\n",
      "Hedwig\n",
      "Hermione Granger's sister\n",
      "Hokey\n",
      "Hope Howell\n",
      "Helga Hufflepuff\n",
      "Hestia Jones\n",
      "Helena Ravenclaw\n",
      "Hepzibah Smith\n"
     ]
    },
    {
     "name": "stdin",
     "output_type": "stream",
     "text": [
      "Please enter a charachter:  helga hufflepuff\n",
      "Would you like to know their Hogwarts House?:  y\n"
     ]
    },
    {
     "name": "stdout",
     "output_type": "stream",
     "text": [
      "They were in Hufflepuff house\n"
     ]
    },
    {
     "name": "stdin",
     "output_type": "stream",
     "text": [
      "Would you like to know about a different character?:  y\n",
      "Which Harry Potter Character would you like to know more about?\n",
      "                \n",
      "(Type a single letter to see list of names beginning with that letter) :  severus snape\n",
      "Would you like to know their Hogwarts House?:  y\n"
     ]
    },
    {
     "name": "stdout",
     "output_type": "stream",
     "text": [
      "They were in Slytherin house\n"
     ]
    },
    {
     "ename": "KeyboardInterrupt",
     "evalue": "Interrupted by user",
     "output_type": "error",
     "traceback": [
      "\u001b[0;31m---------------------------------------------------------------------------\u001b[0m",
      "\u001b[0;31mKeyboardInterrupt\u001b[0m                         Traceback (most recent call last)",
      "\u001b[0;32m<ipython-input-39-78f9bcf555d0>\u001b[0m in \u001b[0;36m<module>\u001b[0;34m\u001b[0m\n\u001b[1;32m     48\u001b[0m     \u001b[0;31m# ask if the user wants to continue\u001b[0m\u001b[0;34m\u001b[0m\u001b[0;34m\u001b[0m\u001b[0;34m\u001b[0m\u001b[0m\n\u001b[1;32m     49\u001b[0m     \u001b[0mtime\u001b[0m\u001b[0;34m.\u001b[0m\u001b[0msleep\u001b[0m\u001b[0;34m(\u001b[0m\u001b[0;36m2.0\u001b[0m\u001b[0;34m)\u001b[0m\u001b[0;34m\u001b[0m\u001b[0;34m\u001b[0m\u001b[0m\n\u001b[0;32m---> 50\u001b[0;31m     \u001b[0mcontinue_var\u001b[0m \u001b[0;34m=\u001b[0m \u001b[0minput\u001b[0m\u001b[0;34m(\u001b[0m\u001b[0;34m'Would you like to know about a different character?: '\u001b[0m\u001b[0;34m)\u001b[0m\u001b[0;34m\u001b[0m\u001b[0;34m\u001b[0m\u001b[0m\n\u001b[0m\u001b[1;32m     51\u001b[0m \u001b[0;34m\u001b[0m\u001b[0m\n\u001b[1;32m     52\u001b[0m     \u001b[0;31m#ensure user gives yes or no input\u001b[0m\u001b[0;34m\u001b[0m\u001b[0;34m\u001b[0m\u001b[0;34m\u001b[0m\u001b[0m\n",
      "\u001b[0;32m/opt/homebrew/anaconda3/lib/python3.8/site-packages/ipykernel/kernelbase.py\u001b[0m in \u001b[0;36mraw_input\u001b[0;34m(self, prompt)\u001b[0m\n\u001b[1;32m    858\u001b[0m                 \u001b[0;34m\"raw_input was called, but this frontend does not support input requests.\"\u001b[0m\u001b[0;34m\u001b[0m\u001b[0;34m\u001b[0m\u001b[0m\n\u001b[1;32m    859\u001b[0m             )\n\u001b[0;32m--> 860\u001b[0;31m         return self._input_request(str(prompt),\n\u001b[0m\u001b[1;32m    861\u001b[0m             \u001b[0mself\u001b[0m\u001b[0;34m.\u001b[0m\u001b[0m_parent_ident\u001b[0m\u001b[0;34m,\u001b[0m\u001b[0;34m\u001b[0m\u001b[0;34m\u001b[0m\u001b[0m\n\u001b[1;32m    862\u001b[0m             \u001b[0mself\u001b[0m\u001b[0;34m.\u001b[0m\u001b[0m_parent_header\u001b[0m\u001b[0;34m,\u001b[0m\u001b[0;34m\u001b[0m\u001b[0;34m\u001b[0m\u001b[0m\n",
      "\u001b[0;32m/opt/homebrew/anaconda3/lib/python3.8/site-packages/ipykernel/kernelbase.py\u001b[0m in \u001b[0;36m_input_request\u001b[0;34m(self, prompt, ident, parent, password)\u001b[0m\n\u001b[1;32m    902\u001b[0m             \u001b[0;32mexcept\u001b[0m \u001b[0mKeyboardInterrupt\u001b[0m\u001b[0;34m:\u001b[0m\u001b[0;34m\u001b[0m\u001b[0;34m\u001b[0m\u001b[0m\n\u001b[1;32m    903\u001b[0m                 \u001b[0;31m# re-raise KeyboardInterrupt, to truncate traceback\u001b[0m\u001b[0;34m\u001b[0m\u001b[0;34m\u001b[0m\u001b[0;34m\u001b[0m\u001b[0m\n\u001b[0;32m--> 904\u001b[0;31m                 \u001b[0;32mraise\u001b[0m \u001b[0mKeyboardInterrupt\u001b[0m\u001b[0;34m(\u001b[0m\u001b[0;34m\"Interrupted by user\"\u001b[0m\u001b[0;34m)\u001b[0m \u001b[0;32mfrom\u001b[0m \u001b[0;32mNone\u001b[0m\u001b[0;34m\u001b[0m\u001b[0;34m\u001b[0m\u001b[0m\n\u001b[0m\u001b[1;32m    905\u001b[0m             \u001b[0;32mexcept\u001b[0m \u001b[0mException\u001b[0m \u001b[0;32mas\u001b[0m \u001b[0me\u001b[0m\u001b[0;34m:\u001b[0m\u001b[0;34m\u001b[0m\u001b[0;34m\u001b[0m\u001b[0m\n\u001b[1;32m    906\u001b[0m                 \u001b[0mself\u001b[0m\u001b[0;34m.\u001b[0m\u001b[0mlog\u001b[0m\u001b[0;34m.\u001b[0m\u001b[0mwarning\u001b[0m\u001b[0;34m(\u001b[0m\u001b[0;34m\"Invalid Message:\"\u001b[0m\u001b[0;34m,\u001b[0m \u001b[0mexc_info\u001b[0m\u001b[0;34m=\u001b[0m\u001b[0;32mTrue\u001b[0m\u001b[0;34m)\u001b[0m\u001b[0;34m\u001b[0m\u001b[0;34m\u001b[0m\u001b[0m\n",
      "\u001b[0;31mKeyboardInterrupt\u001b[0m: Interrupted by user"
     ]
    }
   ],
   "source": [
    "\n",
    "# this value stays true unless the user wants to quit the program (see continue_var)\n",
    "program_open = True\n",
    "while program_open == True:\n",
    "    # user should type in name here. capitalized names don't matter but name all in one. 'first last'. \n",
    "    search_name = input('''Which Harry Potter Character would you like to know more about?\n",
    "                \\n(Type a single letter to see list of names beginning with that letter) : ''')\n",
    "    \n",
    "    # add printing a list of characters who's first name begins with the letter entered\n",
    "    while len(search_name) == 1:\n",
    "        letter = search_name.lower()\n",
    "        # print out capitalized names of all people who's first name with the letter inputted\n",
    "        names = [person['name'] for person in hp_charachter_list if person['name'].lower().startswith(letter)]\n",
    "        if len(names) == 0:\n",
    "            print('There are no characters in the database that start with that letter')\n",
    "        for name in names:\n",
    "            print(name) \n",
    "        search_name = (input('Please enter a charachter: '))\n",
    "    while search_name.lower() not in [name['name'].lower() for name in hp_charachter_list]:\n",
    "        #if a valid name is not entered, user prompted to enter another name\n",
    "        search_name = input('Sorry that character is not in the database\\nEnter another name: ')\n",
    "\n",
    "    if search_name.lower() in [name['name'] for name in hp_charachter_list]:   # <-- eventually need to figure out how to search for partial names (i.e. 'harry')\n",
    "        print('Ok I will tell you more about ', capitalize_name(search_name))\n",
    "        # print out the 'info' key related to that charachter name\n",
    "        # eventually figure out how to specify type of info <----\n",
    "        for person in hp_charachter_list:\n",
    "            if person['name'].lower() == search_name.lower():\n",
    "                time.sleep(2.0)\n",
    "                print(\"{name} : {info}\".format(name = capitalize_name(person['name']), info = person['info']))\n",
    "    \n",
    "    #ask about the same character's house (eventually add more inputs here (i.e. House, birthday, etc))\n",
    "    time.sleep(2.0)\n",
    "    more_info_var = input('Would you like to know their Hogwarts House?: ')\n",
    "\n",
    "    #check for valid input (will have to update if dict key search is added)\n",
    "    while more_info_var.lower() not in ('y', 'yes', 'n', 'no'):\n",
    "        more_info_var = input('Please type y or n: ')\n",
    "\n",
    "    #if they say yes print the house the character was in\n",
    "    if more_info_var.lower() in ('y', 'yes'):\n",
    "        for person in hp_charachter_list:\n",
    "            if person['name'].lower() == search_name.lower():\n",
    "                print(\"They were in {house} house\".format(**person)) #some cool dictionary formatting I found\n",
    "    #if they say no continue on\n",
    "    else:\n",
    "        pass\n",
    "        \n",
    "    # ask if the user wants to continue \n",
    "    time.sleep(2.0)\n",
    "    continue_var = input('Would you like to know about a different character?: ')\n",
    "    \n",
    "    #ensure user gives yes or no input\n",
    "    while continue_var.lower() not in ('y', 'yes', 'n', 'no'):\n",
    "        continue_var = input('Please type y or n: ')\n",
    "    \n",
    "    \n",
    "    # if they do not, close the program\n",
    "    if continue_var.lower() in ('n', 'no'):\n",
    "        print('Ok goodbye!')\n",
    "        print(\"\"\"\n",
    "          ___                      ___  \n",
    "         (o o)                    (o o) \n",
    "        (  V  ) Mischief Managed (  V  )\n",
    "        --m-m----------------------m-m--\n",
    "        \"\"\")\n",
    "        program_open = False\n",
    "\n",
    "\n"
   ]
  },
  {
   "cell_type": "code",
   "execution_count": 20,
   "metadata": {},
   "outputs": [
    {
     "data": {
      "text/plain": [
       "str"
      ]
     },
     "execution_count": 20,
     "metadata": {},
     "output_type": "execute_result"
    }
   ],
   "source": [
    "name_list = [name['name'] for name in hp_charachter_list]\n",
    "type(name_list[0])"
   ]
  },
  {
   "cell_type": "code",
   "execution_count": 32,
   "metadata": {},
   "outputs": [],
   "source": [
    "names = [person['name'] for person in hp_charachter_list if person['name'].lower().startswith('h')]\n"
   ]
  },
  {
   "cell_type": "code",
   "execution_count": 33,
   "metadata": {},
   "outputs": [
    {
     "data": {
      "text/plain": [
       "['Heathcote Barbary',\n",
       " 'Humphrey Belcher',\n",
       " 'Herbert Chorley',\n",
       " 'Hector Dagworth-Granger',\n",
       " 'Harold Dingle',\n",
       " \"Hermione Granger's father\",\n",
       " 'Harper',\n",
       " 'Heady',\n",
       " 'Hereward',\n",
       " 'Hermes',\n",
       " 'Hogwarts Express conductor',\n",
       " 'Hogwarts school mice',\n",
       " 'House of Black house-elves',\n",
       " 'Hassan Mostafa',\n",
       " 'Harry Potter',\n",
       " 'Horace Slughorn',\n",
       " 'Hippocrates Smethwyck',\n",
       " 'Hugo Granger-Weasley',\n",
       " 'Herman Wintringham',\n",
       " 'Hengist of Woodcroft',\n",
       " \"Hannah Abbott's mother\",\n",
       " 'Hannah Abbott',\n",
       " 'Hetty Bayliss',\n",
       " 'Hermione Granger',\n",
       " \"Hermione Granger's mother\",\n",
       " 'Hedwig',\n",
       " 'Hedwig',\n",
       " \"Hermione Granger's sister\",\n",
       " 'Hokey',\n",
       " 'Hope Howell',\n",
       " 'Helga Hufflepuff',\n",
       " 'Hestia Jones',\n",
       " 'Helena Ravenclaw',\n",
       " 'Hepzibah Smith']"
      ]
     },
     "execution_count": 33,
     "metadata": {},
     "output_type": "execute_result"
    }
   ],
   "source": [
    "names"
   ]
  },
  {
   "cell_type": "markdown",
   "metadata": {},
   "source": [
    "Ok now I have it working with the json I have. The `.lower()`s everywhere are a bit annoying but I'll have to logic my way out of that later. Only issue now, is this dat doesn't have an 'info' section. So I'll have to either format a new info section from the information given here (maybe their birthday is this, their wand is this, they were in these books), or I'll have to find better data with a sort of 'about' or 'info' section. "
   ]
  },
  {
   "cell_type": "markdown",
   "metadata": {},
   "source": [
    "### Acquiring more Data\n",
    "Here I am going to attempt to acquire more data by using beautiful soup to scrape data from a webpage I found. Hopefully I can create a new table with names and info, and then join that table to my list of characters that I already have.\n",
    "Here is the [Link to the Website](http://magical-menagerie.com/wizardry/full-character-listing/)"
   ]
  },
  {
   "cell_type": "code",
   "execution_count": 143,
   "metadata": {},
   "outputs": [],
   "source": [
    "from requests import get\n",
    "from bs4 import BeautifulSoup\n",
    "import bs4"
   ]
  },
  {
   "cell_type": "code",
   "execution_count": 41,
   "metadata": {},
   "outputs": [
    {
     "data": {
      "text/plain": [
       "200"
      ]
     },
     "execution_count": 41,
     "metadata": {},
     "output_type": "execute_result"
    }
   ],
   "source": [
    "# assign url of website to variable\n",
    "url  = 'http://magical-menagerie.com/wizardry/full-character-listing/'\n",
    "\n",
    "# set headers and get a responses\n",
    "headers = {'User-Agent': 'Hermione Granger'} # Some websites don't accept the pyhon-requests default user-agent\n",
    "\n",
    "# get response from website\n",
    "response = get(url, headers=headers)\n",
    "\n",
    "# response status code\n",
    "response.status_code"
   ]
  },
  {
   "cell_type": "code",
   "execution_count": 42,
   "metadata": {},
   "outputs": [],
   "source": [
    "# turn content from website into soup\n",
    "soup = BeautifulSoup(response.content, 'html.parser')"
   ]
  },
  {
   "cell_type": "code",
   "execution_count": 85,
   "metadata": {},
   "outputs": [
    {
     "data": {
      "text/plain": [
       "['Abbot, Hannah- ']"
      ]
     },
     "execution_count": 85,
     "metadata": {},
     "output_type": "execute_result"
    }
   ],
   "source": [
    "# this is promising\n",
    "soup.body.strong.contents"
   ]
  },
  {
   "cell_type": "code",
   "execution_count": 86,
   "metadata": {},
   "outputs": [
    {
     "data": {
      "text/plain": [
       "<generator object Tag._all_strings at 0x7fd5d83189e0>"
      ]
     },
     "execution_count": 86,
     "metadata": {},
     "output_type": "execute_result"
    }
   ],
   "source": [
    "soup.strings"
   ]
  },
  {
   "cell_type": "code",
   "execution_count": 116,
   "metadata": {},
   "outputs": [],
   "source": [
    "# turn soup into only the section with the list of names\n",
    "soup2 = soup.find('td', class_ = 'postcontent')"
   ]
  },
  {
   "cell_type": "code",
   "execution_count": 138,
   "metadata": {},
   "outputs": [],
   "source": [
    "#soup2.find_all(True)"
   ]
  },
  {
   "cell_type": "code",
   "execution_count": 144,
   "metadata": {},
   "outputs": [],
   "source": [
    "# can define boolean funtion to pass into find_all function\n",
    "def surrounded_by_strings(tag):\n",
    "    return (isinstance(tag.next_element, bs4.NavigableString)\n",
    "            and isinstance(tag.previous_element, bs4.NavigableString))"
   ]
  },
  {
   "cell_type": "code",
   "execution_count": 146,
   "metadata": {},
   "outputs": [],
   "source": [
    "#soup2.find_all(surrounded_by_strings)"
   ]
  },
  {
   "cell_type": "code",
   "execution_count": 157,
   "metadata": {},
   "outputs": [],
   "source": [
    "# this finds all the info I want I just need to figure out how to get the text\n",
    "soup2.find_all('p')"
   ]
  },
  {
   "cell_type": "code",
   "execution_count": 173,
   "metadata": {},
   "outputs": [
    {
     "name": "stdout",
     "output_type": "stream",
     "text": [
      "An A – Z Guide of the Characters in Harry Potter!\n",
      "<class 'str'>\n",
      "Abbot, Hannah-  A Hufflepuff girl in Harry’s year and a prefect in books 5 and 6. She was in the D.A. and her mother was killed in Book 6 by a death eater. Marrys Neville Longbottom and becomes the barwoman of the Three Broomsticks\n",
      "<class 'str'>\n",
      "Abercrombie, Euan- A Gryffindor student who first came to Hogwarts in Harry’s 4th year.\n",
      "<class 'str'>\n",
      "Ackerley, Steward- A Ravenclaw student who was first introduced in Goblet of Fire.\n",
      "<class 'str'>\n",
      "Aesalon, Falcon- From ancient Greece, he was the first ever recorded animagus and could transform into a falcon.\n",
      "<class 'str'>\n",
      "Agnes- A patient in St. Mungo’s who’s head is covered in fur and barks instead of speaks.\n",
      "<class 'str'>\n",
      "Agrippa, Cornelius- Living from 1486 – 1535 and was on a wizard card saying celebrated wizard imprisoned by Muggles for his writing, because they thought his books were evil”. She is also the only card that Ron does not have in his collection (along with Ptolemy).\n",
      "<class 'str'>\n",
      "Alderton, Archibald- On a wizard card and is famous for blowing up a small town in Hampshire while trying to mix a birthday cake.\n",
      "<class 'str'>\n",
      "Alguf the Awful- A goblin who is known for trying to sell dungbombs.\n",
      "<class 'str'>\n",
      "Alphard-  Sirius Black’s uncle who left Sirius gold to buy his own place. He, like Sirius, has been removed from the Black family tree (probably for leaving Sirius the gold).\n",
      "<class 'str'>\n",
      "Archie- An old wizard Harry saw while at the world cup, who said he would rather wear a muggle women’s dress than men’s clothing because he “likes a nice healthy breeze around his privates.”\n",
      "<class 'str'>\n",
      "Aragog-  The creature that was believed to be the monster inside the Chamber of Secrets. Was raised by Hagrid inside the castle and is an acromantula. Lives in the forest with it’s family, and ordered Harry and Ron to be killed in Book 2. He also died in Book 6.\n",
      "<class 'str'>\n",
      "Arnold-  Ginny’s pet Pygmy Puff.\n",
      "<class 'str'>\n",
      "Aubrey, Bertram-  A boy that Sirius and James Potter used an illegal hex on that made his head swell to twice it’s normal size.\n",
      "<class 'str'>\n",
      "Avery-  A death eater who stayed out of Azkaban by saying he was acting under the imperius curse. He was apologizing to Voldemort in Book 4, but Voldemort then said “crucio” and he fell in pain.\n",
      "<class 'str'>\n"
     ]
    }
   ],
   "source": [
    "# omg I'm the smartest human alive! \n",
    "# I freakin did it\n",
    "for thing in soup2.find_all('p'):\n",
    "    # only print til Bs so i don't have so many to look at at first\n",
    "    if thing.get_text().strip().startswith('B'):\n",
    "        break\n",
    "        \n",
    "    # print out the get text from each p. Strip whitespace\n",
    "    print(thing.get_text().strip())\n",
    "    \n",
    "    # print the type\n",
    "    print(type(thing.get_text()))\n",
    "    \n",
    "# Ok so what I have here is a string for each of the charachters.\n",
    "# I can put that into a dataframe, split on the '-' and get rid of that\n",
    "# then I'll have to split the first and last name on the ',' then join together first and last name \n"
   ]
  },
  {
   "cell_type": "markdown",
   "metadata": {},
   "source": [
    "#### Ok so what I have here is a string for each of the charachters.\n",
    "#### I can put that into a dataframe, split on the '-' and get rid of that\n",
    "#### then I'll have to split the first and last name on the ',' then join together first and last name "
   ]
  },
  {
   "cell_type": "code",
   "execution_count": 224,
   "metadata": {},
   "outputs": [],
   "source": [
    "#df = pd.DataFrame(columns = ['Name', 'info'])\n",
    "\n",
    "#initalize empty list for storing all strings\n",
    "all_names = []\n",
    "all_info = []\n",
    "\n",
    "for thing in soup2.find_all('p'):\n",
    "        \n",
    "    # print out the get text from each p. Strip whitespace\n",
    "    string = thing.get_text().strip()\n",
    "\n",
    "    # replace all weird slightly longer – s with the shorter ones -\n",
    "    string = string.replace('–', '-')\n",
    "    \n",
    "    # split string on the short dash - \n",
    "    split_strings = string.split('-', maxsplit=1)\n",
    "    \n",
    "    # check for things that don't have names and info\n",
    "    if len(split_strings) > 1:\n",
    "        # append name string to name list\n",
    "        all_names.append(split_strings[0])\n",
    "\n",
    "        # append info string to info list\n",
    "        all_info.append(split_strings[1])\n",
    "    \n"
   ]
  },
  {
   "cell_type": "code",
   "execution_count": 225,
   "metadata": {},
   "outputs": [
    {
     "data": {
      "text/html": [
       "<div>\n",
       "<style scoped>\n",
       "    .dataframe tbody tr th:only-of-type {\n",
       "        vertical-align: middle;\n",
       "    }\n",
       "\n",
       "    .dataframe tbody tr th {\n",
       "        vertical-align: top;\n",
       "    }\n",
       "\n",
       "    .dataframe thead th {\n",
       "        text-align: right;\n",
       "    }\n",
       "</style>\n",
       "<table border=\"1\" class=\"dataframe\">\n",
       "  <thead>\n",
       "    <tr style=\"text-align: right;\">\n",
       "      <th></th>\n",
       "      <th>name</th>\n",
       "      <th>info</th>\n",
       "    </tr>\n",
       "  </thead>\n",
       "  <tbody>\n",
       "    <tr>\n",
       "      <th>0</th>\n",
       "      <td>An A</td>\n",
       "      <td>Z Guide of the Characters in Harry Potter!</td>\n",
       "    </tr>\n",
       "    <tr>\n",
       "      <th>1</th>\n",
       "      <td>Abbot, Hannah</td>\n",
       "      <td>A Hufflepuff girl in Harry’s year and a pref...</td>\n",
       "    </tr>\n",
       "    <tr>\n",
       "      <th>2</th>\n",
       "      <td>Abercrombie, Euan</td>\n",
       "      <td>A Gryffindor student who first came to Hogwar...</td>\n",
       "    </tr>\n",
       "    <tr>\n",
       "      <th>3</th>\n",
       "      <td>Ackerley, Steward</td>\n",
       "      <td>A Ravenclaw student who was first introduced ...</td>\n",
       "    </tr>\n",
       "    <tr>\n",
       "      <th>4</th>\n",
       "      <td>Aesalon, Falcon</td>\n",
       "      <td>From ancient Greece, he was the first ever re...</td>\n",
       "    </tr>\n",
       "    <tr>\n",
       "      <th>...</th>\n",
       "      <td>...</td>\n",
       "      <td>...</td>\n",
       "    </tr>\n",
       "    <tr>\n",
       "      <th>691</th>\n",
       "      <td>Zabini, Blaise</td>\n",
       "      <td>A Slytherin boy in Harry’s year who, when Slu...</td>\n",
       "    </tr>\n",
       "    <tr>\n",
       "      <th>692</th>\n",
       "      <td>Zabini, ?</td>\n",
       "      <td>Was famous for being beautiful and marrying 7...</td>\n",
       "    </tr>\n",
       "    <tr>\n",
       "      <th>693</th>\n",
       "      <td>Zamojski, Ladislaw</td>\n",
       "      <td>A Polish chaser that Ron was compared to from...</td>\n",
       "    </tr>\n",
       "    <tr>\n",
       "      <th>694</th>\n",
       "      <td>Zeller, Rose</td>\n",
       "      <td>A girl sorted into Hufflepuff in Book 5.</td>\n",
       "    </tr>\n",
       "    <tr>\n",
       "      <th>695</th>\n",
       "      <td>Zograf, ?</td>\n",
       "      <td>Keeper for the Bulgarian National Quidditch T...</td>\n",
       "    </tr>\n",
       "  </tbody>\n",
       "</table>\n",
       "<p>696 rows × 2 columns</p>\n",
       "</div>"
      ],
      "text/plain": [
       "                   name                                               info\n",
       "0                 An A          Z Guide of the Characters in Harry Potter!\n",
       "1         Abbot, Hannah    A Hufflepuff girl in Harry’s year and a pref...\n",
       "2     Abercrombie, Euan   A Gryffindor student who first came to Hogwar...\n",
       "3     Ackerley, Steward   A Ravenclaw student who was first introduced ...\n",
       "4       Aesalon, Falcon   From ancient Greece, he was the first ever re...\n",
       "..                  ...                                                ...\n",
       "691      Zabini, Blaise   A Slytherin boy in Harry’s year who, when Slu...\n",
       "692           Zabini, ?   Was famous for being beautiful and marrying 7...\n",
       "693  Zamojski, Ladislaw   A Polish chaser that Ron was compared to from...\n",
       "694        Zeller, Rose           A girl sorted into Hufflepuff in Book 5.\n",
       "695           Zograf, ?   Keeper for the Bulgarian National Quidditch T...\n",
       "\n",
       "[696 rows x 2 columns]"
      ]
     },
     "execution_count": 225,
     "metadata": {},
     "output_type": "execute_result"
    }
   ],
   "source": [
    "# create dataframe from all_names and info\n",
    "df = pd.DataFrame({'name': all_names,\n",
    "                   'info': all_info\n",
    "                  })\n",
    "df"
   ]
  },
  {
   "cell_type": "markdown",
   "metadata": {},
   "source": [
    "Encountered weird problem where some of the '-'s were longer. Replaced all longer dashes with shorter ones\n",
    "Then split the string.\n",
    "\n",
    "All ?s appear to be where the website doesn't know the name. \n",
    "\n",
    "Need to split up Fred and George Weasley. They're in the same entry for some reason"
   ]
  },
  {
   "cell_type": "code",
   "execution_count": 232,
   "metadata": {},
   "outputs": [
    {
     "data": {
      "text/plain": [
       "'Euan Abercrombie'"
      ]
     },
     "execution_count": 232,
     "metadata": {},
     "output_type": "execute_result"
    }
   ],
   "source": [
    "hp_charachter_list[0]['name']"
   ]
  },
  {
   "cell_type": "code",
   "execution_count": 240,
   "metadata": {},
   "outputs": [],
   "source": [
    "# create list of all character names\n",
    "all_orig_character_names = [hp_charachter_list[i]['name'] for i in range(len(hp_charachter_list))]"
   ]
  },
  {
   "cell_type": "markdown",
   "metadata": {},
   "source": [
    "#### Info and names\n",
    "So now I have a json file (dictionaries) of all the characters that I could use. And I have a dataframe with a name (written last, first) and info about that character.\n",
    "\n",
    "TODO:\n",
    "- Match up the lists of names (from json and df)\n",
    "- Join appropriate data from info table to json (add new info field)\n",
    "- Figure out what names are different in each dataset and what to do about it.\n",
    "    - i.e. in the info dataset Fred and George Weasley will need to be split into their own entry then joined \n",
    "    - i.e. Zabini, ? in the info dataset refers to Blaise Zabini's mother in the character json list.\n"
   ]
  },
  {
   "cell_type": "code",
   "execution_count": 244,
   "metadata": {},
   "outputs": [],
   "source": [
    "# drop first entry because it's just the title\n",
    "df = df.drop(index = 0)"
   ]
  },
  {
   "cell_type": "code",
   "execution_count": 255,
   "metadata": {},
   "outputs": [],
   "source": [
    "pd.set_option('display.max_colwidth', None)"
   ]
  },
  {
   "cell_type": "code",
   "execution_count": 256,
   "metadata": {},
   "outputs": [
    {
     "data": {
      "text/plain": [
       "643     The 3rd and 4th children of Arthur and Molly Weasley, and twin brothers. Together, they were mischievous makers at Hogwarts. They started selling things at Hogwarts; such as ways to get out of class and other practical jokes. They were also the beaters on the Gryffindor quidditch team from Books 1 through 5 (they were thrown off in Book 5 by Umbridge). After they leave Hogwarts (literally leave- jumped on their broomsticks and flew away because they hated Umbridge) they started their joke shop with the money that Harry Potter gave them (1,000 galleons- his winnings from the Triwizard Tournament). They called their joke shop Weasley Wizard Wheezes. Their joke shop seems to be doing really well in Book 6, although all the things from their shop are banned at Hogwarts. It is unknown if they joined the Order of the Phoenix after they left Hogwarts. Their birthday is April 1st, April fools day. They used to live at the Burrow, but now live in a flat above their joke shop. George lost an ear in Harry Potter and the Deathly Hallows and Fred was killed in the final battle.\n",
       "Name: info, dtype: object"
      ]
     },
     "execution_count": 256,
     "metadata": {},
     "output_type": "execute_result"
    }
   ],
   "source": [
    "df[df.name == 'Weasley, Fred and George']['info']"
   ]
  },
  {
   "cell_type": "markdown",
   "metadata": {},
   "source": [
    "I'm not sure what to do with this information yet. I'd like to have separate inputs for each one. I might get their info from a different site. "
   ]
  },
  {
   "cell_type": "code",
   "execution_count": 261,
   "metadata": {},
   "outputs": [],
   "source": [
    "# create list of names from the dataframe\n",
    "info_names_list = list(df.name)"
   ]
  },
  {
   "cell_type": "code",
   "execution_count": 266,
   "metadata": {},
   "outputs": [],
   "source": [
    "#info_names_list"
   ]
  },
  {
   "cell_type": "code",
   "execution_count": 267,
   "metadata": {},
   "outputs": [],
   "source": [
    "#all_orig_character_names"
   ]
  },
  {
   "cell_type": "code",
   "execution_count": 280,
   "metadata": {},
   "outputs": [],
   "source": [
    "# split name on comma \n",
    "def get_first_and_last_name(string):\n",
    "    '''\n",
    "    This function takes a string that is seperated by a comma, \n",
    "    and returns the first and last name in that order\n",
    "    '''\n",
    "     # split string on comma\n",
    "    full_name = name.split(', ')\n",
    "    \n",
    "    if len(full_name) < 2:\n",
    "        \n",
    "        return full_name[0]\n",
    "    \n",
    "    # last name is the first element in the list\n",
    "    last_name = full_name[0]\n",
    "    \n",
    "    # first name is the second element in the list\n",
    "    first_name = full_name[1]\n",
    "    \n",
    "    # concat first and last name together with a space\n",
    "    new_name = first_name + ' ' + last_name\n",
    "    \n",
    "    return new_name\n",
    "    "
   ]
  },
  {
   "cell_type": "code",
   "execution_count": 281,
   "metadata": {},
   "outputs": [],
   "source": [
    "# initalize blank new list\n",
    "\n",
    "info_names_list_new = []\n",
    "\n",
    "for name in info_names_list:\n",
    "    new_name = get_first_and_last_name(name)\n",
    "    info_names_list_new.append(new_name)"
   ]
  },
  {
   "cell_type": "code",
   "execution_count": 284,
   "metadata": {},
   "outputs": [
    {
     "data": {
      "text/plain": [
       "('Hannah Abbot', 695)"
      ]
     },
     "execution_count": 284,
     "metadata": {},
     "output_type": "execute_result"
    }
   ],
   "source": [
    "# check to see if it worked\n",
    "info_names_list_new[0], len(info_names_list_new)"
   ]
  },
  {
   "cell_type": "code",
   "execution_count": 285,
   "metadata": {},
   "outputs": [],
   "source": [
    "# set up lists\n",
    "\n",
    "has_info = []\n",
    "does_not_have_info = []\n",
    "\n",
    "#loop through the original character names to see if we have info on them\n",
    "for name in all_orig_character_names:\n",
    "    \n",
    "    # add to the has info list if we have bio info on them\n",
    "    if name in info_names_list_new:\n",
    "        has_info.append(name)\n",
    "        \n",
    "    # add to does not have info list if we don't\n",
    "    else:\n",
    "        does_not_have_info.append(name)"
   ]
  },
  {
   "cell_type": "code",
   "execution_count": 290,
   "metadata": {},
   "outputs": [
    {
     "data": {
      "text/plain": [
       "['Euan Abercrombie',\n",
       " 'Cornelius Agrippa',\n",
       " 'Aragog',\n",
       " 'Arnold',\n",
       " 'Bertram Aubrey',\n",
       " 'Malcolm Baddock',\n",
       " 'Otto Bagman',\n",
       " 'Bane',\n",
       " 'Heathcote Barbary',\n",
       " 'Barnabas the Barmy',\n",
       " 'Ali Bashir',\n",
       " 'Basil',\n",
       " 'Beedle the Bard',\n",
       " 'Marcus Belby',\n",
       " 'Humphrey Belcher',\n",
       " 'Binky',\n",
       " 'Dennis Bishop',\n",
       " 'Regulus Black',\n",
       " 'Sirius Black',\n",
       " 'Miles Bletchley',\n",
       " 'Stubby Boardman',\n",
       " 'Bob',\n",
       " 'Broderick Bode',\n",
       " 'Edgar Bones',\n",
       " 'Mungo Bonham',\n",
       " 'Terry Boot',\n",
       " 'Libatius Borage',\n",
       " 'Bozo',\n",
       " 'Frank Bryce',\n",
       " 'Buckbeak',\n",
       " 'Cadwallader',\n",
       " 'Amycus Carrow',\n",
       " 'Chambers',\n",
       " 'Connolly',\n",
       " 'Ritchie Coote',\n",
       " 'Michael Corner',\n",
       " 'Vincent Crabbe',\n",
       " 'Dirk Cresswell',\n",
       " 'Crookshanks',\n",
       " 'Gideon Crumb',\n",
       " 'Roger Davies',\n",
       " 'Caradoc Dearborn',\n",
       " 'Dennis',\n",
       " 'Derek',\n",
       " 'Dedalus Diggle',\n",
       " 'Amos Diggory',\n",
       " 'Cedric Diggory',\n",
       " 'Harold Dingle',\n",
       " 'Armando Dippet',\n",
       " 'Dobby',\n",
       " 'Elphias Doge',\n",
       " 'Antonin Dolohov',\n",
       " 'Kirley Duke',\n",
       " 'Dudley Dursley',\n",
       " 'Vernon Dursley',\n",
       " 'Egbert the Egregious',\n",
       " 'Emeric the Evil',\n",
       " 'Errol',\n",
       " 'Mark Evans',\n",
       " 'Everard',\n",
       " 'Fang',\n",
       " 'Fat Friar',\n",
       " 'Fawkes',\n",
       " 'Fergus',\n",
       " 'Seamus Finnigan',\n",
       " 'Firenze',\n",
       " 'Angus Fleet',\n",
       " 'Marcus Flint',\n",
       " 'Filius Flitwick',\n",
       " 'Fluffy',\n",
       " 'Ambrosius Flume',\n",
       " 'Florean Fortescue',\n",
       " 'Cornelius Fudge',\n",
       " 'Marvolo Gaunt',\n",
       " 'Morfin Gaunt',\n",
       " 'Anthony Goldstein',\n",
       " 'Golgomath',\n",
       " 'Gordon',\n",
       " 'Gregory Goyle',\n",
       " 'Merton Graves',\n",
       " 'Grawp',\n",
       " 'Gregory the Smarmy',\n",
       " 'Fenrir Greyback',\n",
       " 'Griphook',\n",
       " 'Alberic Grunnion',\n",
       " 'Godric Gryffindor',\n",
       " 'Davey Gudgeon',\n",
       " 'Rubeus Hagrid',\n",
       " 'Ciceron Harkiss',\n",
       " 'Harper',\n",
       " 'Warty Harris',\n",
       " 'Hermes',\n",
       " 'Bertie Higgs',\n",
       " 'Geoffrey Hooper',\n",
       " 'Inigo Imago',\n",
       " 'Joey Jenkins',\n",
       " 'Arsenius Jigger',\n",
       " 'Lee Jordan',\n",
       " 'Jugson',\n",
       " 'Igor Karkaroff',\n",
       " 'Karkus',\n",
       " 'Kevin',\n",
       " 'Andrew Kirke',\n",
       " 'Kreacher',\n",
       " 'Lachlan the Lanky',\n",
       " 'Rabastan Lestrange',\n",
       " 'Rodolphus Lestrange',\n",
       " 'Dai Llewellyn',\n",
       " 'Gilderoy Lockhart',\n",
       " 'Frank Longbottom',\n",
       " 'Neville Longbottom',\n",
       " 'Xenophilius Lovegood',\n",
       " 'Aidan Lynch',\n",
       " 'Walden Macnair',\n",
       " 'Magorian',\n",
       " 'Malcolm',\n",
       " 'Abraxas Malfoy',\n",
       " 'Draco Malfoy',\n",
       " 'Lucius Malfoy',\n",
       " 'Scorpius Malfoy',\n",
       " 'Cormac McLaggen',\n",
       " 'Merlin',\n",
       " 'Cuthbert Mockridge',\n",
       " 'Montgomery',\n",
       " 'Alastor Moody',\n",
       " 'Mortlake',\n",
       " 'Hassan Mostafa',\n",
       " 'Eric Munch',\n",
       " 'Theodore Nott',\n",
       " 'Oblansk',\n",
       " 'Odo',\n",
       " 'Bob Ogden',\n",
       " 'Tiberius Ogden',\n",
       " 'Ogg',\n",
       " 'Jimmy Peakes',\n",
       " 'Arnold Peasegood',\n",
       " 'Peeves',\n",
       " 'Octavius Pepper',\n",
       " 'Perkins',\n",
       " 'Peter Pettigrew',\n",
       " 'Antioch Peverell',\n",
       " 'Arkie Philpott',\n",
       " 'Pigwidgeon',\n",
       " 'Sturgis Podmore',\n",
       " 'Poliakoff',\n",
       " 'Piers Polkiss',\n",
       " 'Roddy Pontner',\n",
       " 'Fabian Prewett',\n",
       " 'Gideon Prewett',\n",
       " 'Apollyon Pringle',\n",
       " 'Graham Pritchard',\n",
       " 'Ptolemy',\n",
       " 'Adrian Pucey',\n",
       " 'Augustus Pye',\n",
       " 'Quigley',\n",
       " 'Urquhart Rackharrow',\n",
       " 'Ragnok',\n",
       " 'Gawain Robards',\n",
       " 'Ronan',\n",
       " 'Augustus Rookwood',\n",
       " 'Evan Rosier',\n",
       " 'Barry Ryan',\n",
       " 'Sanguini',\n",
       " 'Scabior',\n",
       " 'Rufus Scrimgeour',\n",
       " 'Selwyn',\n",
       " 'Kingsley Shacklebolt',\n",
       " 'Gaspard Shingleton',\n",
       " 'Wilbert Slinkhard',\n",
       " 'Horace Slughorn',\n",
       " 'Salazar Slytherin',\n",
       " 'Zacharias Smith',\n",
       " 'Severus Snape',\n",
       " 'Tobias Snape',\n",
       " 'Emeric Switch',\n",
       " 'Tenebrus',\n",
       " 'Janus Thickey',\n",
       " 'Pius Thicknesse',\n",
       " 'Dean Thomas',\n",
       " 'Orsino Thruston',\n",
       " 'Kenneth Towler',\n",
       " 'Donaghan Tremlett',\n",
       " 'Trevor',\n",
       " 'Quentin Trimble',\n",
       " 'Wilkie Twycross',\n",
       " 'Uric the Oddball',\n",
       " 'Urquhart',\n",
       " 'Vaisey',\n",
       " 'Vindictus Viridian',\n",
       " 'Adalbert Waffling',\n",
       " 'Myron Wagtail',\n",
       " 'Arthur Weasley',\n",
       " 'Percy Weasley',\n",
       " 'Bill Weasley',\n",
       " 'Kevin Whitby',\n",
       " 'Willy Widdershins',\n",
       " 'Wilfred the Wistful',\n",
       " 'Gilbert Wimple',\n",
       " 'Herman Wintringham',\n",
       " 'Oliver Wood',\n",
       " 'Hengist of Woodcroft',\n",
       " 'Eldred Worple',\n",
       " 'Bowman Wright',\n",
       " 'Blaise Zabini',\n",
       " 'Ladislaw Zamojski',\n",
       " 'Agnes',\n",
       " 'Millicent Bagnold',\n",
       " 'Bathilda Bagshot',\n",
       " 'Bandon Banshee',\n",
       " 'Hetty Bayliss',\n",
       " 'Katie Bell',\n",
       " 'Amy Benson',\n",
       " 'Amelia Bones',\n",
       " 'Susan Bones',\n",
       " 'Eleanor Branstone',\n",
       " 'Rita Skeeter',\n",
       " 'Mandy Brocklehurst',\n",
       " 'Lavender Brown',\n",
       " 'Millicent Bulstrode',\n",
       " 'Alecto Carrow',\n",
       " 'Greta Catchlove',\n",
       " 'Cho Chang',\n",
       " 'Circe',\n",
       " 'Penelope Clearwater',\n",
       " 'Cliodna',\n",
       " 'Doris Crockford',\n",
       " 'Apolline Delacour',\n",
       " 'Fleur Delacour',\n",
       " 'Gabrielle Delacour',\n",
       " 'Dilys Derwent',\n",
       " 'Emma Dobbs',\n",
       " 'Ariana Dumbledore',\n",
       " 'Kendra Dumbledore',\n",
       " 'Petunia Dursley',\n",
       " 'Marietta Edgecombe',\n",
       " 'Fat Lady',\n",
       " 'Perenelle Flamel',\n",
       " 'Florence',\n",
       " 'Fridwulfa',\n",
       " 'Vicky Frobisher',\n",
       " 'Miranda Goshawk',\n",
       " 'Gladys Gudgeon',\n",
       " 'Hedwig',\n",
       " 'Hedwig',\n",
       " 'Hokey',\n",
       " 'Rolanda Hooch',\n",
       " 'Olive Hornby',\n",
       " 'Helga Hufflepuff',\n",
       " 'Angelina Johnson',\n",
       " 'Gwenog Jones',\n",
       " 'Hestia Jones',\n",
       " 'Bertha Jorkins',\n",
       " 'Leanne',\n",
       " 'Bellatrix Lestrange',\n",
       " 'Alice Longbottom',\n",
       " 'Augusta Longbottom',\n",
       " 'Luna Lovegood',\n",
       " 'Morag MacDougal',\n",
       " 'Laura Madley',\n",
       " 'Griselda Marchbanks',\n",
       " 'Olympe Maxime',\n",
       " 'Natalie McDonald',\n",
       " 'Minerva McGonagall',\n",
       " 'Marlene McKinnon',\n",
       " 'Galatea Merrythought',\n",
       " 'Moran',\n",
       " 'Mosag',\n",
       " 'Mullet',\n",
       " 'Murcus',\n",
       " 'Nagini',\n",
       " 'Pansy Parkinson',\n",
       " 'Padma Patil',\n",
       " 'Poppy Pomfrey',\n",
       " 'Eileen Prince',\n",
       " 'Doris Purkiss',\n",
       " 'Orla Quirke',\n",
       " 'Rowena Ravenclaw',\n",
       " 'Demelza Robins',\n",
       " 'Aurora Sinistra',\n",
       " 'Veronica Smethley',\n",
       " 'Hepzibah Smith',\n",
       " 'Phyllida Spore',\n",
       " 'Pomona Sprout',\n",
       " 'Patricia Stimpson',\n",
       " 'Miriam Strout',\n",
       " 'Agatha Timms',\n",
       " 'Andromeda Tonks',\n",
       " 'Nymphadora Tonks',\n",
       " 'Cassandra Trelawney',\n",
       " 'Lisa Turpin',\n",
       " 'Cassandra Vablatsky',\n",
       " 'Emmeline Vance',\n",
       " 'Romilda Vane',\n",
       " 'Septima Vector',\n",
       " 'Violet',\n",
       " 'Celestina Warbeck',\n",
       " 'Molly Weasley',\n",
       " 'Wendelin the Weird',\n",
       " 'Winky',\n",
       " 'Yvonne',\n",
       " 'Rose Zeller',\n",
       " 'Albus Dumbledore']"
      ]
     },
     "execution_count": 290,
     "metadata": {},
     "output_type": "execute_result"
    }
   ],
   "source": [
    "has_info"
   ]
  },
  {
   "cell_type": "code",
   "execution_count": null,
   "metadata": {},
   "outputs": [],
   "source": []
  }
 ],
 "metadata": {
  "kernelspec": {
   "display_name": "Python 3",
   "language": "python",
   "name": "python3"
  },
  "language_info": {
   "codemirror_mode": {
    "name": "ipython",
    "version": 3
   },
   "file_extension": ".py",
   "mimetype": "text/x-python",
   "name": "python",
   "nbconvert_exporter": "python",
   "pygments_lexer": "ipython3",
   "version": "3.8.5"
  }
 },
 "nbformat": 4,
 "nbformat_minor": 4
}
