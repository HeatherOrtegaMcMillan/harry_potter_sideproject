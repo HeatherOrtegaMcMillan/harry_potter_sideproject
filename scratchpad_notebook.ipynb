{
 "cells": [
  {
   "cell_type": "markdown",
   "metadata": {},
   "source": [
    "# Harry Potter Lookup Notebook"
   ]
  },
  {
   "cell_type": "markdown",
   "metadata": {},
   "source": [
    "Scratch pad notebook for solving problems with the main program"
   ]
  },
  {
   "cell_type": "code",
   "execution_count": 37,
   "metadata": {},
   "outputs": [],
   "source": [
    "import pandas as pd\n",
    "import numpy as np\n",
    "import os\n",
    "import time"
   ]
  },
  {
   "cell_type": "code",
   "execution_count": 7,
   "metadata": {},
   "outputs": [],
   "source": [
    "#import data from google sheet\n",
    "sheeturl = 'https://docs.google.com/spreadsheets/d/1xGsJmr-7mEmIDxnRcFsFLbo-UR8JH68jZVm7gb8yqbk/edit#gid=0'\n",
    "csv_export_url = sheeturl.replace('/edit#gid=', '/export?format=csv&gid=')\n",
    "#df = pd.read_csv(csv_export_url)"
   ]
  },
  {
   "cell_type": "code",
   "execution_count": 6,
   "metadata": {},
   "outputs": [],
   "source": [
    "# import data from downloaded csv\n",
    "df = pd.read_csv('charachter_list.csv')"
   ]
  },
  {
   "cell_type": "code",
   "execution_count": 7,
   "metadata": {},
   "outputs": [
    {
     "data": {
      "text/html": [
       "<div>\n",
       "<style scoped>\n",
       "    .dataframe tbody tr th:only-of-type {\n",
       "        vertical-align: middle;\n",
       "    }\n",
       "\n",
       "    .dataframe tbody tr th {\n",
       "        vertical-align: top;\n",
       "    }\n",
       "\n",
       "    .dataframe thead th {\n",
       "        text-align: right;\n",
       "    }\n",
       "</style>\n",
       "<table border=\"1\" class=\"dataframe\">\n",
       "  <thead>\n",
       "    <tr style=\"text-align: right;\">\n",
       "      <th></th>\n",
       "      <th>id</th>\n",
       "      <th>name</th>\n",
       "      <th>hogwarts_house</th>\n",
       "      <th>info</th>\n",
       "    </tr>\n",
       "  </thead>\n",
       "  <tbody>\n",
       "    <tr>\n",
       "      <th>0</th>\n",
       "      <td>1</td>\n",
       "      <td>harry potter</td>\n",
       "      <td>Gryffindor</td>\n",
       "      <td>The Boy Who lived. Defeated Lord Voldemort.</td>\n",
       "    </tr>\n",
       "    <tr>\n",
       "      <th>1</th>\n",
       "      <td>2</td>\n",
       "      <td>hermione granger</td>\n",
       "      <td>Gryffindor</td>\n",
       "      <td>Cleverest girl in her year at Hogwarts.</td>\n",
       "    </tr>\n",
       "    <tr>\n",
       "      <th>2</th>\n",
       "      <td>3</td>\n",
       "      <td>ron weasley</td>\n",
       "      <td>Gryffindor</td>\n",
       "      <td>Harry Potter's best friend. One of 7 Weasley c...</td>\n",
       "    </tr>\n",
       "    <tr>\n",
       "      <th>3</th>\n",
       "      <td>4</td>\n",
       "      <td>draco malfoy</td>\n",
       "      <td>Slytherin</td>\n",
       "      <td>Pure-blood snob and only son of Lucius and Nar...</td>\n",
       "    </tr>\n",
       "    <tr>\n",
       "      <th>4</th>\n",
       "      <td>5</td>\n",
       "      <td>ginny weasley</td>\n",
       "      <td>Gryffindor</td>\n",
       "      <td>Talented witch, only daughter in the Weasley f...</td>\n",
       "    </tr>\n",
       "    <tr>\n",
       "      <th>5</th>\n",
       "      <td>6</td>\n",
       "      <td>neville longbottom</td>\n",
       "      <td>Gryffindor</td>\n",
       "      <td>in the same year as Harry and his crew. Instru...</td>\n",
       "    </tr>\n",
       "    <tr>\n",
       "      <th>6</th>\n",
       "      <td>7</td>\n",
       "      <td>severus snape</td>\n",
       "      <td>Slytherin</td>\n",
       "      <td>Potions master at hogwarts until 1996. Death E...</td>\n",
       "    </tr>\n",
       "    <tr>\n",
       "      <th>7</th>\n",
       "      <td>8</td>\n",
       "      <td>minerva mcgonagall</td>\n",
       "      <td>Gryffindor</td>\n",
       "      <td>Transfiguration professor at Hogwarts and depu...</td>\n",
       "    </tr>\n",
       "  </tbody>\n",
       "</table>\n",
       "</div>"
      ],
      "text/plain": [
       "   id                name hogwarts_house  \\\n",
       "0   1        harry potter     Gryffindor   \n",
       "1   2    hermione granger     Gryffindor   \n",
       "2   3         ron weasley     Gryffindor   \n",
       "3   4        draco malfoy      Slytherin   \n",
       "4   5       ginny weasley     Gryffindor   \n",
       "5   6  neville longbottom     Gryffindor   \n",
       "6   7       severus snape      Slytherin   \n",
       "7   8  minerva mcgonagall     Gryffindor   \n",
       "\n",
       "                                                info  \n",
       "0        The Boy Who lived. Defeated Lord Voldemort.  \n",
       "1            Cleverest girl in her year at Hogwarts.  \n",
       "2  Harry Potter's best friend. One of 7 Weasley c...  \n",
       "3  Pure-blood snob and only son of Lucius and Nar...  \n",
       "4  Talented witch, only daughter in the Weasley f...  \n",
       "5  in the same year as Harry and his crew. Instru...  \n",
       "6  Potions master at hogwarts until 1996. Death E...  \n",
       "7  Transfiguration professor at Hogwarts and depu...  "
      ]
     },
     "execution_count": 7,
     "metadata": {},
     "output_type": "execute_result"
    }
   ],
   "source": [
    "df"
   ]
  },
  {
   "cell_type": "markdown",
   "metadata": {},
   "source": [
    "This for turning dataframe into dictionary\n",
    "https://pandas.pydata.org/pandas-docs/stable/reference/api/pandas.DataFrame.to_dict.html\n",
    "\n",
    "`df.to_dict('records')\n",
    "[{'col1': 1, 'col2': 0.5}, {'col1': 2, 'col2': 0.75}]"
   ]
  },
  {
   "cell_type": "code",
   "execution_count": 9,
   "metadata": {},
   "outputs": [
    {
     "data": {
      "text/plain": [
       "[{'id': 1,\n",
       "  'name': 'harry potter',\n",
       "  'hogwarts_house': 'Gryffindor',\n",
       "  'info': 'The Boy Who lived. Defeated Lord Voldemort.'},\n",
       " {'id': 2,\n",
       "  'name': 'hermione granger',\n",
       "  'hogwarts_house': 'Gryffindor',\n",
       "  'info': 'Cleverest girl in her year at Hogwarts.'},\n",
       " {'id': 3,\n",
       "  'name': 'ron weasley',\n",
       "  'hogwarts_house': 'Gryffindor',\n",
       "  'info': \"Harry Potter's best friend. One of 7 Weasley children.\"},\n",
       " {'id': 4,\n",
       "  'name': 'draco malfoy',\n",
       "  'hogwarts_house': 'Slytherin',\n",
       "  'info': \"Pure-blood snob and only son of Lucius and Narcissa. Harry Potter\\\\'s nemesis\"},\n",
       " {'id': 5,\n",
       "  'name': 'ginny weasley',\n",
       "  'hogwarts_house': 'Gryffindor',\n",
       "  'info': 'Talented witch, only daughter in the Weasley family. Married to Harry Potter'},\n",
       " {'id': 6,\n",
       "  'name': 'neville longbottom',\n",
       "  'hogwarts_house': 'Gryffindor',\n",
       "  'info': 'in the same year as Harry and his crew. Instrumental to the downfall of Lord Voldemort, killed his snake, Nagini.'},\n",
       " {'id': 7,\n",
       "  'name': 'severus snape',\n",
       "  'hogwarts_house': 'Slytherin',\n",
       "  'info': 'Potions master at hogwarts until 1996. Death Eater double agent for Albus Dumbledore. Hopelessly in love with Lilly Evans.'},\n",
       " {'id': 8,\n",
       "  'name': 'minerva mcgonagall',\n",
       "  'hogwarts_house': 'Gryffindor',\n",
       "  'info': 'Transfiguration professor at Hogwarts and deputy headmistress. Animagus, can turn into a cat.'}]"
      ]
     },
     "execution_count": 9,
     "metadata": {},
     "output_type": "execute_result"
    }
   ],
   "source": [
    "# turn dataframe into dictionary\n",
    "# yes finally!!!!!!! \n",
    "df.to_dict('records')"
   ]
  },
  {
   "cell_type": "code",
   "execution_count": 13,
   "metadata": {},
   "outputs": [],
   "source": [
    "def capitalize_name (string):\n",
    "    \"\"\"\n",
    "    This function splits a string and capitalizes every element. input is string, output is string.\n",
    "    \"\"\"\n",
    "    return ' '.join([word.capitalize() for word in string.split()])"
   ]
  },
  {
   "cell_type": "markdown",
   "metadata": {},
   "source": [
    "### JSON File import  \n",
    "- Found JSON from theJasonBarton's github project \n",
    "- This is the [repo](https://github.com/theDavidBarton/the-harry-potter-database)"
   ]
  },
  {
   "cell_type": "code",
   "execution_count": 3,
   "metadata": {},
   "outputs": [],
   "source": [
    "# import json module\n",
    "import json"
   ]
  },
  {
   "cell_type": "code",
   "execution_count": 4,
   "metadata": {},
   "outputs": [
    {
     "name": "stdout",
     "output_type": "stream",
     "text": [
      "Type: <class 'list'>\n"
     ]
    }
   ],
   "source": [
    "# Opening JSON file \n",
    "with open('characters.json') as json_file:\n",
    "    data = json.load(json_file)\n",
    "  \n",
    "    # Print the type of data variable\n",
    "    print(\"Type:\", type(data))"
   ]
  },
  {
   "cell_type": "code",
   "execution_count": 5,
   "metadata": {},
   "outputs": [
    {
     "data": {
      "text/plain": [
       "{'id': 1,\n",
       " 'name': 'Euan Abercrombie',\n",
       " 'birth': 'between 1 September 1983 and 31 August 1984',\n",
       " 'death': None,\n",
       " 'species': 'Human',\n",
       " 'ancestry': None,\n",
       " 'gender': 'Male',\n",
       " 'hair_color': None,\n",
       " 'eye_color': None,\n",
       " 'wand': None,\n",
       " 'patronus': None,\n",
       " 'house': 'Gryffindor',\n",
       " 'associated_groups': ['Hogwarts School of Witchcraft and Wizardry',\n",
       "  'Gryffindor'],\n",
       " 'books_featured_in': [5]}"
      ]
     },
     "execution_count": 5,
     "metadata": {},
     "output_type": "execute_result"
    }
   ],
   "source": [
    "# check data\n",
    "data[0]"
   ]
  },
  {
   "cell_type": "code",
   "execution_count": 426,
   "metadata": {},
   "outputs": [],
   "source": [
    "# effectively re creating the dictionary from previous versions\n",
    "hp_charachter_list = data2\n",
    "\n"
   ]
  },
  {
   "cell_type": "code",
   "execution_count": 445,
   "metadata": {},
   "outputs": [
    {
     "name": "stdin",
     "output_type": "stream",
     "text": [
      "Which Harry Potter Character would you like to know more about?\n",
      "                \n",
      "(Type a single letter to see list of names beginning with that letter) :  s\n"
     ]
    },
    {
     "name": "stdout",
     "output_type": "stream",
     "text": [
      "Sirius Black\n",
      "Stubby Boardman\n",
      "Seamus Finnigan\n",
      "Scorpius Malfoy\n",
      "Sturgis Podmore\n",
      "Sanguini\n",
      "Scabior\n",
      "Selwyn\n",
      "Salazar Slytherin\n",
      "Severus Snape\n",
      "Susan Bones\n",
      "Septima Vector\n"
     ]
    },
    {
     "name": "stdin",
     "output_type": "stream",
     "text": [
      "Please enter a charachter:  sirius black\n"
     ]
    },
    {
     "name": "stdout",
     "output_type": "stream",
     "text": [
      "Ok I will tell you more about  Sirius Black\n",
      "hi\n",
      "Sirius Black :   Sirius Black is the oldest son of the Blacks. He ran away from home at 16 and lived with James Potter and his family for a while. Soon after he got his own place from money he received from his Uncle Alfred (below). He was in Gryffindor house, unlike most of the other blacks. He was best friends with James Potter, Remus Lupin, and Peter Pettigrew while at school, creating the marauder’s map with them. He was then sent to Azkaban (after graduating) for supposedly telling Voldemort where James, Lily, and Harry Potter were (Even though he is Harry’s godfather). He broke out 12 years later and was supposedly after Harry. He turned out not to be bad, and Harry loved him like a father and a brother. He died in Book 5 after being killed by his first cousin Belatrix Lestrange.\n"
     ]
    },
    {
     "ename": "KeyboardInterrupt",
     "evalue": "Interrupted by user",
     "output_type": "error",
     "traceback": [
      "\u001b[0;31m---------------------------------------------------------------------------\u001b[0m",
      "\u001b[0;31mKeyboardInterrupt\u001b[0m                         Traceback (most recent call last)",
      "\u001b[0;32m<ipython-input-445-ac4f8dd076e4>\u001b[0m in \u001b[0;36m<module>\u001b[0;34m\u001b[0m\n\u001b[1;32m     32\u001b[0m     \u001b[0;31m#ask about the same character's house (eventually add more inputs here (i.e. House, birthday, etc))\u001b[0m\u001b[0;34m\u001b[0m\u001b[0;34m\u001b[0m\u001b[0;34m\u001b[0m\u001b[0m\n\u001b[1;32m     33\u001b[0m     \u001b[0mtime\u001b[0m\u001b[0;34m.\u001b[0m\u001b[0msleep\u001b[0m\u001b[0;34m(\u001b[0m\u001b[0;36m2.0\u001b[0m\u001b[0;34m)\u001b[0m\u001b[0;34m\u001b[0m\u001b[0;34m\u001b[0m\u001b[0m\n\u001b[0;32m---> 34\u001b[0;31m     \u001b[0mmore_info_var\u001b[0m \u001b[0;34m=\u001b[0m \u001b[0minput\u001b[0m\u001b[0;34m(\u001b[0m\u001b[0;34m'Would you like to know their Hogwarts House?: '\u001b[0m\u001b[0;34m)\u001b[0m\u001b[0;34m\u001b[0m\u001b[0;34m\u001b[0m\u001b[0m\n\u001b[0m\u001b[1;32m     35\u001b[0m \u001b[0;34m\u001b[0m\u001b[0m\n\u001b[1;32m     36\u001b[0m     \u001b[0;31m#check for valid input (will have to update if dict key search is added)\u001b[0m\u001b[0;34m\u001b[0m\u001b[0;34m\u001b[0m\u001b[0;34m\u001b[0m\u001b[0m\n",
      "\u001b[0;32m/opt/homebrew/anaconda3/lib/python3.8/site-packages/ipykernel/kernelbase.py\u001b[0m in \u001b[0;36mraw_input\u001b[0;34m(self, prompt)\u001b[0m\n\u001b[1;32m    858\u001b[0m                 \u001b[0;34m\"raw_input was called, but this frontend does not support input requests.\"\u001b[0m\u001b[0;34m\u001b[0m\u001b[0;34m\u001b[0m\u001b[0m\n\u001b[1;32m    859\u001b[0m             )\n\u001b[0;32m--> 860\u001b[0;31m         return self._input_request(str(prompt),\n\u001b[0m\u001b[1;32m    861\u001b[0m             \u001b[0mself\u001b[0m\u001b[0;34m.\u001b[0m\u001b[0m_parent_ident\u001b[0m\u001b[0;34m,\u001b[0m\u001b[0;34m\u001b[0m\u001b[0;34m\u001b[0m\u001b[0m\n\u001b[1;32m    862\u001b[0m             \u001b[0mself\u001b[0m\u001b[0;34m.\u001b[0m\u001b[0m_parent_header\u001b[0m\u001b[0;34m,\u001b[0m\u001b[0;34m\u001b[0m\u001b[0;34m\u001b[0m\u001b[0m\n",
      "\u001b[0;32m/opt/homebrew/anaconda3/lib/python3.8/site-packages/ipykernel/kernelbase.py\u001b[0m in \u001b[0;36m_input_request\u001b[0;34m(self, prompt, ident, parent, password)\u001b[0m\n\u001b[1;32m    902\u001b[0m             \u001b[0;32mexcept\u001b[0m \u001b[0mKeyboardInterrupt\u001b[0m\u001b[0;34m:\u001b[0m\u001b[0;34m\u001b[0m\u001b[0;34m\u001b[0m\u001b[0m\n\u001b[1;32m    903\u001b[0m                 \u001b[0;31m# re-raise KeyboardInterrupt, to truncate traceback\u001b[0m\u001b[0;34m\u001b[0m\u001b[0;34m\u001b[0m\u001b[0;34m\u001b[0m\u001b[0m\n\u001b[0;32m--> 904\u001b[0;31m                 \u001b[0;32mraise\u001b[0m \u001b[0mKeyboardInterrupt\u001b[0m\u001b[0;34m(\u001b[0m\u001b[0;34m\"Interrupted by user\"\u001b[0m\u001b[0;34m)\u001b[0m \u001b[0;32mfrom\u001b[0m \u001b[0;32mNone\u001b[0m\u001b[0;34m\u001b[0m\u001b[0;34m\u001b[0m\u001b[0m\n\u001b[0m\u001b[1;32m    905\u001b[0m             \u001b[0;32mexcept\u001b[0m \u001b[0mException\u001b[0m \u001b[0;32mas\u001b[0m \u001b[0me\u001b[0m\u001b[0;34m:\u001b[0m\u001b[0;34m\u001b[0m\u001b[0;34m\u001b[0m\u001b[0m\n\u001b[1;32m    906\u001b[0m                 \u001b[0mself\u001b[0m\u001b[0;34m.\u001b[0m\u001b[0mlog\u001b[0m\u001b[0;34m.\u001b[0m\u001b[0mwarning\u001b[0m\u001b[0;34m(\u001b[0m\u001b[0;34m\"Invalid Message:\"\u001b[0m\u001b[0;34m,\u001b[0m \u001b[0mexc_info\u001b[0m\u001b[0;34m=\u001b[0m\u001b[0;32mTrue\u001b[0m\u001b[0;34m)\u001b[0m\u001b[0;34m\u001b[0m\u001b[0;34m\u001b[0m\u001b[0m\n",
      "\u001b[0;31mKeyboardInterrupt\u001b[0m: Interrupted by user"
     ]
    }
   ],
   "source": [
    "\n",
    "# this value stays true unless the user wants to quit the program (see continue_var)\n",
    "program_open = True\n",
    "while program_open == True:\n",
    "    # user should type in name here. capitalized names don't matter but name all in one. 'first last'. \n",
    "    search_name = input('''Which Harry Potter Character would you like to know more about?\n",
    "                \\n(Type a single letter to see list of names beginning with that letter) : ''')\n",
    "    \n",
    "    # ------ Character enter and check\n",
    "    # add printing a list of characters who's first name begins with the letter entered\n",
    "    while len(search_name) == 1:\n",
    "        letter = search_name.lower()\n",
    "        # print out capitalized names of all people who's first name with the letter inputted\n",
    "        names = [person['name'] for person in hp_charachter_list if person['name'].lower().startswith(letter)]\n",
    "        if len(names) == 0:\n",
    "            print('There are no characters in the database that start with that letter')\n",
    "        for name in names:\n",
    "            print(name) \n",
    "        search_name = (input('Please enter a charachter: '))\n",
    "    \n",
    "    # ------- Error for Not in Database\n",
    "    while search_name.lower() not in [name['name'].lower() for name in hp_charachter_list]:\n",
    "        #if a valid name is not entered, user prompted to enter another name\n",
    "        search_name = input('Sorry that character is not in the database\\nEnter another name: ')\n",
    "    \n",
    "    # -------- Printing INFO\n",
    "    if search_name.lower() in [name['name'].lower() for name in hp_charachter_list]:   # <-- eventually need to figure out how to search for partial names (i.e. 'harry')\n",
    "        print('Ok I will tell you more about ', capitalize_name(search_name))\n",
    "        # print out the 'info' key related to that charachter name\n",
    "        # eventually figure out how to specify type of info <----\n",
    "        for person in hp_charachter_list:\n",
    "            if person['name'].lower() == search_name.lower():\n",
    "                time.sleep(2.0)\n",
    "                print(\"{name} : {info}\".format(name = capitalize_name(person['name']), info = person['info']))\n",
    "    \n",
    "    # -------- Ask for hogwarts house\n",
    "    #ask about the same character's house (eventually add more inputs here (i.e. House, birthday, etc))\n",
    "    time.sleep(2.0)\n",
    "    more_info_var = input('Would you like to know their Hogwarts House?: ')\n",
    "\n",
    "    #check for valid input (will have to update if dict key search is added)\n",
    "    while more_info_var.lower() not in ('y', 'yes', 'n', 'no'):\n",
    "        more_info_var = input('Please type y or n: ')\n",
    "    \n",
    "    # -------- Hogwarts house print\n",
    "    #if they say yes print the house the character was in\n",
    "    if more_info_var.lower() in ('y', 'yes'):\n",
    "        for person in hp_charachter_list:\n",
    "            if person['name'].lower() == search_name.lower():\n",
    "                print(\"They were in {house} house\".format(**person)) #some cool dictionary formatting I found\n",
    "    #if they say no continue on\n",
    "    else:\n",
    "        pass\n",
    "        \n",
    "    # ask if the user wants to continue \n",
    "    time.sleep(2.0)\n",
    "    continue_var = input('Would you like to know about a different character?: ')\n",
    "    \n",
    "    #ensure user gives yes or no input\n",
    "    while continue_var.lower() not in ('y', 'yes', 'n', 'no'):\n",
    "        continue_var = input('Please type y or n: ')\n",
    "    \n",
    "    \n",
    "    # if they do not, close the program\n",
    "    if continue_var.lower() in ('n', 'no'):\n",
    "        print('Ok goodbye!')\n",
    "        print(\"\"\"\n",
    "          ___                      ___  \n",
    "         (o o)                    (o o) \n",
    "        (  V  ) Mischief Managed (  V  )\n",
    "        --m-m----------------------m-m--\n",
    "        \"\"\")\n",
    "        program_open = False\n",
    "\n",
    "\n"
   ]
  },
  {
   "cell_type": "code",
   "execution_count": 20,
   "metadata": {},
   "outputs": [
    {
     "data": {
      "text/plain": [
       "str"
      ]
     },
     "execution_count": 20,
     "metadata": {},
     "output_type": "execute_result"
    }
   ],
   "source": [
    "name_list = [name['name'] for name in hp_charachter_list]\n",
    "type(name_list[0])"
   ]
  },
  {
   "cell_type": "code",
   "execution_count": 413,
   "metadata": {},
   "outputs": [
    {
     "ename": "TypeError",
     "evalue": "string indices must be integers",
     "output_type": "error",
     "traceback": [
      "\u001b[0;31m---------------------------------------------------------------------------\u001b[0m",
      "\u001b[0;31mTypeError\u001b[0m                                 Traceback (most recent call last)",
      "\u001b[0;32m<ipython-input-413-e28ba8580369>\u001b[0m in \u001b[0;36m<module>\u001b[0;34m\u001b[0m\n\u001b[0;32m----> 1\u001b[0;31m \u001b[0mnames\u001b[0m \u001b[0;34m=\u001b[0m \u001b[0;34m[\u001b[0m\u001b[0mperson\u001b[0m\u001b[0;34m[\u001b[0m\u001b[0;34m'name'\u001b[0m\u001b[0;34m]\u001b[0m \u001b[0;32mfor\u001b[0m \u001b[0mperson\u001b[0m \u001b[0;32min\u001b[0m \u001b[0mhp_charachter_list\u001b[0m \u001b[0;32mif\u001b[0m \u001b[0mperson\u001b[0m\u001b[0;34m[\u001b[0m\u001b[0;34m'name'\u001b[0m\u001b[0;34m]\u001b[0m\u001b[0;34m.\u001b[0m\u001b[0mlower\u001b[0m\u001b[0;34m(\u001b[0m\u001b[0;34m)\u001b[0m\u001b[0;34m.\u001b[0m\u001b[0mstartswith\u001b[0m\u001b[0;34m(\u001b[0m\u001b[0;34m'h'\u001b[0m\u001b[0;34m)\u001b[0m\u001b[0;34m]\u001b[0m\u001b[0;34m\u001b[0m\u001b[0;34m\u001b[0m\u001b[0m\n\u001b[0m",
      "\u001b[0;32m<ipython-input-413-e28ba8580369>\u001b[0m in \u001b[0;36m<listcomp>\u001b[0;34m(.0)\u001b[0m\n\u001b[0;32m----> 1\u001b[0;31m \u001b[0mnames\u001b[0m \u001b[0;34m=\u001b[0m \u001b[0;34m[\u001b[0m\u001b[0mperson\u001b[0m\u001b[0;34m[\u001b[0m\u001b[0;34m'name'\u001b[0m\u001b[0;34m]\u001b[0m \u001b[0;32mfor\u001b[0m \u001b[0mperson\u001b[0m \u001b[0;32min\u001b[0m \u001b[0mhp_charachter_list\u001b[0m \u001b[0;32mif\u001b[0m \u001b[0mperson\u001b[0m\u001b[0;34m[\u001b[0m\u001b[0;34m'name'\u001b[0m\u001b[0;34m]\u001b[0m\u001b[0;34m.\u001b[0m\u001b[0mlower\u001b[0m\u001b[0;34m(\u001b[0m\u001b[0;34m)\u001b[0m\u001b[0;34m.\u001b[0m\u001b[0mstartswith\u001b[0m\u001b[0;34m(\u001b[0m\u001b[0;34m'h'\u001b[0m\u001b[0;34m)\u001b[0m\u001b[0;34m]\u001b[0m\u001b[0;34m\u001b[0m\u001b[0;34m\u001b[0m\u001b[0m\n\u001b[0m",
      "\u001b[0;31mTypeError\u001b[0m: string indices must be integers"
     ]
    }
   ],
   "source": [
    "names = [person['name'] for person in hp_charachter_list if person['name'].lower().startswith('h')]\n"
   ]
  },
  {
   "cell_type": "code",
   "execution_count": 414,
   "metadata": {},
   "outputs": [
    {
     "data": {
      "text/plain": [
       "['Heathcote Barbary',\n",
       " 'Humphrey Belcher',\n",
       " 'Herbert Chorley',\n",
       " 'Hector Dagworth-Granger',\n",
       " 'Harold Dingle',\n",
       " \"Hermione Granger's father\",\n",
       " 'Harper',\n",
       " 'Heady',\n",
       " 'Hereward',\n",
       " 'Hermes',\n",
       " 'Hogwarts Express conductor',\n",
       " 'Hogwarts school mice',\n",
       " 'House of Black house-elves',\n",
       " 'Hassan Mostafa',\n",
       " 'Harry Potter',\n",
       " 'Horace Slughorn',\n",
       " 'Hippocrates Smethwyck',\n",
       " 'Hugo Granger-Weasley',\n",
       " 'Herman Wintringham',\n",
       " 'Hengist of Woodcroft',\n",
       " \"Hannah Abbott's mother\",\n",
       " 'Hannah Abbott',\n",
       " 'Hetty Bayliss',\n",
       " 'Hermione Granger',\n",
       " \"Hermione Granger's mother\",\n",
       " 'Hedwig',\n",
       " 'Hedwig',\n",
       " \"Hermione Granger's sister\",\n",
       " 'Hokey',\n",
       " 'Hope Howell',\n",
       " 'Helga Hufflepuff',\n",
       " 'Hestia Jones',\n",
       " 'Helena Ravenclaw',\n",
       " 'Hepzibah Smith']"
      ]
     },
     "execution_count": 414,
     "metadata": {},
     "output_type": "execute_result"
    }
   ],
   "source": [
    "names"
   ]
  },
  {
   "cell_type": "markdown",
   "metadata": {},
   "source": [
    "Ok now I have it working with the json I have. The `.lower()`s everywhere are a bit annoying but I'll have to logic my way out of that later. Only issue now, is this dat doesn't have an 'info' section. So I'll have to either format a new info section from the information given here (maybe their birthday is this, their wand is this, they were in these books), or I'll have to find better data with a sort of 'about' or 'info' section. "
   ]
  },
  {
   "cell_type": "markdown",
   "metadata": {},
   "source": [
    "### Acquiring more Data\n",
    "Here I am going to attempt to acquire more data by using beautiful soup to scrape data from a webpage I found. Hopefully I can create a new table with names and info, and then join that table to my list of characters that I already have.\n",
    "Here is the [Link to the Website](http://magical-menagerie.com/wizardry/full-character-listing/)"
   ]
  },
  {
   "cell_type": "code",
   "execution_count": 143,
   "metadata": {},
   "outputs": [],
   "source": [
    "from requests import get\n",
    "from bs4 import BeautifulSoup\n",
    "import bs4"
   ]
  },
  {
   "cell_type": "code",
   "execution_count": 41,
   "metadata": {},
   "outputs": [
    {
     "data": {
      "text/plain": [
       "200"
      ]
     },
     "execution_count": 41,
     "metadata": {},
     "output_type": "execute_result"
    }
   ],
   "source": [
    "# assign url of website to variable\n",
    "url  = 'http://magical-menagerie.com/wizardry/full-character-listing/'\n",
    "\n",
    "# set headers and get a responses\n",
    "headers = {'User-Agent': 'Hermione Granger'} # Some websites don't accept the pyhon-requests default user-agent\n",
    "\n",
    "# get response from website\n",
    "response = get(url, headers=headers)\n",
    "\n",
    "# response status code\n",
    "response.status_code"
   ]
  },
  {
   "cell_type": "code",
   "execution_count": 42,
   "metadata": {},
   "outputs": [],
   "source": [
    "# turn content from website into soup\n",
    "soup = BeautifulSoup(response.content, 'html.parser')"
   ]
  },
  {
   "cell_type": "code",
   "execution_count": 85,
   "metadata": {},
   "outputs": [
    {
     "data": {
      "text/plain": [
       "['Abbot, Hannah- ']"
      ]
     },
     "execution_count": 85,
     "metadata": {},
     "output_type": "execute_result"
    }
   ],
   "source": [
    "# this is promising\n",
    "soup.body.strong.contents"
   ]
  },
  {
   "cell_type": "code",
   "execution_count": 86,
   "metadata": {},
   "outputs": [
    {
     "data": {
      "text/plain": [
       "<generator object Tag._all_strings at 0x7fd5d83189e0>"
      ]
     },
     "execution_count": 86,
     "metadata": {},
     "output_type": "execute_result"
    }
   ],
   "source": [
    "soup.strings"
   ]
  },
  {
   "cell_type": "code",
   "execution_count": 116,
   "metadata": {},
   "outputs": [],
   "source": [
    "# turn soup into only the section with the list of names\n",
    "soup2 = soup.find('td', class_ = 'postcontent')"
   ]
  },
  {
   "cell_type": "code",
   "execution_count": 138,
   "metadata": {},
   "outputs": [],
   "source": [
    "#soup2.find_all(True)"
   ]
  },
  {
   "cell_type": "code",
   "execution_count": 144,
   "metadata": {},
   "outputs": [],
   "source": [
    "# can define boolean funtion to pass into find_all function\n",
    "def surrounded_by_strings(tag):\n",
    "    return (isinstance(tag.next_element, bs4.NavigableString)\n",
    "            and isinstance(tag.previous_element, bs4.NavigableString))"
   ]
  },
  {
   "cell_type": "code",
   "execution_count": 146,
   "metadata": {},
   "outputs": [],
   "source": [
    "#soup2.find_all(surrounded_by_strings)"
   ]
  },
  {
   "cell_type": "code",
   "execution_count": 157,
   "metadata": {},
   "outputs": [],
   "source": [
    "# this finds all the info I want I just need to figure out how to get the text\n",
    "soup2.find_all('p')"
   ]
  },
  {
   "cell_type": "code",
   "execution_count": 173,
   "metadata": {},
   "outputs": [
    {
     "name": "stdout",
     "output_type": "stream",
     "text": [
      "An A – Z Guide of the Characters in Harry Potter!\n",
      "<class 'str'>\n",
      "Abbot, Hannah-  A Hufflepuff girl in Harry’s year and a prefect in books 5 and 6. She was in the D.A. and her mother was killed in Book 6 by a death eater. Marrys Neville Longbottom and becomes the barwoman of the Three Broomsticks\n",
      "<class 'str'>\n",
      "Abercrombie, Euan- A Gryffindor student who first came to Hogwarts in Harry’s 4th year.\n",
      "<class 'str'>\n",
      "Ackerley, Steward- A Ravenclaw student who was first introduced in Goblet of Fire.\n",
      "<class 'str'>\n",
      "Aesalon, Falcon- From ancient Greece, he was the first ever recorded animagus and could transform into a falcon.\n",
      "<class 'str'>\n",
      "Agnes- A patient in St. Mungo’s who’s head is covered in fur and barks instead of speaks.\n",
      "<class 'str'>\n",
      "Agrippa, Cornelius- Living from 1486 – 1535 and was on a wizard card saying celebrated wizard imprisoned by Muggles for his writing, because they thought his books were evil”. She is also the only card that Ron does not have in his collection (along with Ptolemy).\n",
      "<class 'str'>\n",
      "Alderton, Archibald- On a wizard card and is famous for blowing up a small town in Hampshire while trying to mix a birthday cake.\n",
      "<class 'str'>\n",
      "Alguf the Awful- A goblin who is known for trying to sell dungbombs.\n",
      "<class 'str'>\n",
      "Alphard-  Sirius Black’s uncle who left Sirius gold to buy his own place. He, like Sirius, has been removed from the Black family tree (probably for leaving Sirius the gold).\n",
      "<class 'str'>\n",
      "Archie- An old wizard Harry saw while at the world cup, who said he would rather wear a muggle women’s dress than men’s clothing because he “likes a nice healthy breeze around his privates.”\n",
      "<class 'str'>\n",
      "Aragog-  The creature that was believed to be the monster inside the Chamber of Secrets. Was raised by Hagrid inside the castle and is an acromantula. Lives in the forest with it’s family, and ordered Harry and Ron to be killed in Book 2. He also died in Book 6.\n",
      "<class 'str'>\n",
      "Arnold-  Ginny’s pet Pygmy Puff.\n",
      "<class 'str'>\n",
      "Aubrey, Bertram-  A boy that Sirius and James Potter used an illegal hex on that made his head swell to twice it’s normal size.\n",
      "<class 'str'>\n",
      "Avery-  A death eater who stayed out of Azkaban by saying he was acting under the imperius curse. He was apologizing to Voldemort in Book 4, but Voldemort then said “crucio” and he fell in pain.\n",
      "<class 'str'>\n"
     ]
    }
   ],
   "source": [
    "# omg I'm the smartest human alive! \n",
    "# I freakin did it\n",
    "for thing in soup2.find_all('p'):\n",
    "    # only print til Bs so i don't have so many to look at at first\n",
    "    if thing.get_text().strip().startswith('B'):\n",
    "        break\n",
    "        \n",
    "    # print out the get text from each p. Strip whitespace\n",
    "    print(thing.get_text().strip())\n",
    "    \n",
    "    # print the type\n",
    "    print(type(thing.get_text()))\n",
    "    \n",
    "# Ok so what I have here is a string for each of the charachters.\n",
    "# I can put that into a dataframe, split on the '-' and get rid of that\n",
    "# then I'll have to split the first and last name on the ',' then join together first and last name \n"
   ]
  },
  {
   "cell_type": "markdown",
   "metadata": {},
   "source": [
    "#### Ok so what I have here is a string for each of the charachters.\n",
    "#### I can put that into a dataframe, split on the '-' and get rid of that\n",
    "#### then I'll have to split the first and last name on the ',' then join together first and last name "
   ]
  },
  {
   "cell_type": "code",
   "execution_count": 641,
   "metadata": {},
   "outputs": [],
   "source": [
    "#df = pd.DataFrame(columns = ['Name', 'info'])\n",
    "\n",
    "#initalize empty list for storing all strings\n",
    "all_names = []\n",
    "all_info = []\n",
    "\n",
    "for thing in soup2.find_all('p'):\n",
    "        \n",
    "    # print out the get text from each p. Strip whitespace\n",
    "    string = thing.get_text().strip()\n",
    "\n",
    "    # replace all weird slightly longer – s with the shorter ones -\n",
    "    string = string.replace('–', '-')\n",
    "    \n",
    "    # split string on the short dash - \n",
    "    split_strings = string.split('-', maxsplit=1)\n",
    "    \n",
    "    # check for things that don't have names and info\n",
    "    if len(split_strings) > 1:\n",
    "        # append name string to name list\n",
    "        all_names.append(split_strings[0])\n",
    "\n",
    "        # append info string to info list\n",
    "        all_info.append(split_strings[1])\n",
    "    \n"
   ]
  },
  {
   "cell_type": "code",
   "execution_count": 642,
   "metadata": {},
   "outputs": [
    {
     "data": {
      "text/html": [
       "<div>\n",
       "<style scoped>\n",
       "    .dataframe tbody tr th:only-of-type {\n",
       "        vertical-align: middle;\n",
       "    }\n",
       "\n",
       "    .dataframe tbody tr th {\n",
       "        vertical-align: top;\n",
       "    }\n",
       "\n",
       "    .dataframe thead th {\n",
       "        text-align: right;\n",
       "    }\n",
       "</style>\n",
       "<table border=\"1\" class=\"dataframe\">\n",
       "  <thead>\n",
       "    <tr style=\"text-align: right;\">\n",
       "      <th></th>\n",
       "      <th>name</th>\n",
       "      <th>info</th>\n",
       "    </tr>\n",
       "  </thead>\n",
       "  <tbody>\n",
       "    <tr>\n",
       "      <th>0</th>\n",
       "      <td>An A</td>\n",
       "      <td>Z Guide of the Characters in Harry Potter!</td>\n",
       "    </tr>\n",
       "    <tr>\n",
       "      <th>1</th>\n",
       "      <td>Abbot, Hannah</td>\n",
       "      <td>A Hufflepuff girl in Harry’s year and a prefect in books 5 and 6. She was in the D.A. and her mother was killed in Book 6 by a death eater. Marrys Neville Longbottom and becomes the barwoman of the Three Broomsticks</td>\n",
       "    </tr>\n",
       "    <tr>\n",
       "      <th>2</th>\n",
       "      <td>Abercrombie, Euan</td>\n",
       "      <td>A Gryffindor student who first came to Hogwarts in Harry’s 4th year.</td>\n",
       "    </tr>\n",
       "    <tr>\n",
       "      <th>3</th>\n",
       "      <td>Ackerley, Steward</td>\n",
       "      <td>A Ravenclaw student who was first introduced in Goblet of Fire.</td>\n",
       "    </tr>\n",
       "    <tr>\n",
       "      <th>4</th>\n",
       "      <td>Aesalon, Falcon</td>\n",
       "      <td>From ancient Greece, he was the first ever recorded animagus and could transform into a falcon.</td>\n",
       "    </tr>\n",
       "    <tr>\n",
       "      <th>...</th>\n",
       "      <td>...</td>\n",
       "      <td>...</td>\n",
       "    </tr>\n",
       "    <tr>\n",
       "      <th>691</th>\n",
       "      <td>Zabini, Blaise</td>\n",
       "      <td>A Slytherin boy in Harry’s year who, when Slughorn was complimenting Harry and saying that he had great power, coughed sarcastically. Ginny then yelled at him saying, “Yeah, Zabini, because you’re so talented…at posing…”. His mother was famous for being beautiful and marrying 7 times; each to a witch wizard who died of a mysterious death. He does not like muggle borns or blood traitors either, like Draco Malfoy.</td>\n",
       "    </tr>\n",
       "    <tr>\n",
       "      <th>692</th>\n",
       "      <td>Zabini, ?</td>\n",
       "      <td>Was famous for being beautiful and marrying 7 times; each to a witch wizard who died of a mysterious death. The mother of Blaise Zabini.</td>\n",
       "    </tr>\n",
       "    <tr>\n",
       "      <th>693</th>\n",
       "      <td>Zamojski, Ladislaw</td>\n",
       "      <td>A Polish chaser that Ron was compared to from one of his saves (comparison from Zamojski as chaser to Ryan from the Irish National Quidditch team as keeper).</td>\n",
       "    </tr>\n",
       "    <tr>\n",
       "      <th>694</th>\n",
       "      <td>Zeller, Rose</td>\n",
       "      <td>A girl sorted into Hufflepuff in Book 5.</td>\n",
       "    </tr>\n",
       "    <tr>\n",
       "      <th>695</th>\n",
       "      <td>Zograf, ?</td>\n",
       "      <td>Keeper for the Bulgarian National Quidditch Team.</td>\n",
       "    </tr>\n",
       "  </tbody>\n",
       "</table>\n",
       "<p>696 rows × 2 columns</p>\n",
       "</div>"
      ],
      "text/plain": [
       "                   name  \\\n",
       "0                 An A    \n",
       "1         Abbot, Hannah   \n",
       "2     Abercrombie, Euan   \n",
       "3     Ackerley, Steward   \n",
       "4       Aesalon, Falcon   \n",
       "..                  ...   \n",
       "691      Zabini, Blaise   \n",
       "692           Zabini, ?   \n",
       "693  Zamojski, Ladislaw   \n",
       "694        Zeller, Rose   \n",
       "695           Zograf, ?   \n",
       "\n",
       "                                                                                                                                                                                                                                                                                                                                                                                                                                 info  \n",
       "0                                                                                                                                                                                                                                                                                                                                                                                          Z Guide of the Characters in Harry Potter!  \n",
       "1                                                                                                                                                                                                             A Hufflepuff girl in Harry’s year and a prefect in books 5 and 6. She was in the D.A. and her mother was killed in Book 6 by a death eater. Marrys Neville Longbottom and becomes the barwoman of the Three Broomsticks  \n",
       "2                                                                                                                                                                                                                                                                                                                                                                A Gryffindor student who first came to Hogwarts in Harry’s 4th year.  \n",
       "3                                                                                                                                                                                                                                                                                                                                                                     A Ravenclaw student who was first introduced in Goblet of Fire.  \n",
       "4                                                                                                                                                                                                                                                                                                                                     From ancient Greece, he was the first ever recorded animagus and could transform into a falcon.  \n",
       "..                                                                                                                                                                                                                                                                                                                                                                                                                                ...  \n",
       "691   A Slytherin boy in Harry’s year who, when Slughorn was complimenting Harry and saying that he had great power, coughed sarcastically. Ginny then yelled at him saying, “Yeah, Zabini, because you’re so talented…at posing…”. His mother was famous for being beautiful and marrying 7 times; each to a witch wizard who died of a mysterious death. He does not like muggle borns or blood traitors either, like Draco Malfoy.  \n",
       "692                                                                                                                                                                                                                                                                                          Was famous for being beautiful and marrying 7 times; each to a witch wizard who died of a mysterious death. The mother of Blaise Zabini.  \n",
       "693                                                                                                                                                                                                                                                                     A Polish chaser that Ron was compared to from one of his saves (comparison from Zamojski as chaser to Ryan from the Irish National Quidditch team as keeper).  \n",
       "694                                                                                                                                                                                                                                                                                                                                                                                          A girl sorted into Hufflepuff in Book 5.  \n",
       "695                                                                                                                                                                                                                                                                                                                                                                                 Keeper for the Bulgarian National Quidditch Team.  \n",
       "\n",
       "[696 rows x 2 columns]"
      ]
     },
     "execution_count": 642,
     "metadata": {},
     "output_type": "execute_result"
    }
   ],
   "source": [
    "# create dataframe from all_names and info\n",
    "df = pd.DataFrame({'name': all_names,\n",
    "                   'info': all_info\n",
    "                  })\n",
    "df"
   ]
  },
  {
   "cell_type": "markdown",
   "metadata": {},
   "source": [
    "Encountered weird problem where some of the '-'s were longer. Replaced all longer dashes with shorter ones\n",
    "Then split the string.\n",
    "\n",
    "All ?s appear to be where the website doesn't know the name. \n",
    "\n",
    "Need to split up Fred and George Weasley. They're in the same entry for some reason"
   ]
  },
  {
   "cell_type": "code",
   "execution_count": 643,
   "metadata": {},
   "outputs": [
    {
     "data": {
      "text/plain": [
       "'Euan Abercrombie'"
      ]
     },
     "execution_count": 643,
     "metadata": {},
     "output_type": "execute_result"
    }
   ],
   "source": [
    "hp_charachter_list[0]['name']"
   ]
  },
  {
   "cell_type": "code",
   "execution_count": 644,
   "metadata": {},
   "outputs": [],
   "source": [
    "# create list of all character names\n",
    "all_orig_character_names = [hp_charachter_list[i]['name'] for i in range(len(hp_charachter_list))]"
   ]
  },
  {
   "cell_type": "markdown",
   "metadata": {},
   "source": [
    "#### Info and names\n",
    "So now I have a json file (dictionaries) of all the characters that I could use. And I have a dataframe with a name (written last, first) and info about that character.\n",
    "\n",
    "TODO:\n",
    "- Match up the lists of names (from json and df)\n",
    "- Join appropriate data from info table to json (add new info field)\n",
    "- Figure out what names are different in each dataset and what to do about it.\n",
    "    - i.e. in the info dataset Fred and George Weasley will need to be split into their own entry then joined \n",
    "    - i.e. Zabini, ? in the info dataset refers to Blaise Zabini's mother in the character json list.\n"
   ]
  },
  {
   "cell_type": "code",
   "execution_count": 646,
   "metadata": {},
   "outputs": [],
   "source": [
    "# drop first entry because it's just the title\n",
    "df = df.drop(index = 0)"
   ]
  },
  {
   "cell_type": "code",
   "execution_count": 648,
   "metadata": {},
   "outputs": [],
   "source": [
    "pd.set_option('display.max_colwidth', None)"
   ]
  },
  {
   "cell_type": "code",
   "execution_count": 649,
   "metadata": {},
   "outputs": [
    {
     "data": {
      "text/plain": [
       "643     The 3rd and 4th children of Arthur and Molly Weasley, and twin brothers. Together, they were mischievous makers at Hogwarts. They started selling things at Hogwarts; such as ways to get out of class and other practical jokes. They were also the beaters on the Gryffindor quidditch team from Books 1 through 5 (they were thrown off in Book 5 by Umbridge). After they leave Hogwarts (literally leave- jumped on their broomsticks and flew away because they hated Umbridge) they started their joke shop with the money that Harry Potter gave them (1,000 galleons- his winnings from the Triwizard Tournament). They called their joke shop Weasley Wizard Wheezes. Their joke shop seems to be doing really well in Book 6, although all the things from their shop are banned at Hogwarts. It is unknown if they joined the Order of the Phoenix after they left Hogwarts. Their birthday is April 1st, April fools day. They used to live at the Burrow, but now live in a flat above their joke shop. George lost an ear in Harry Potter and the Deathly Hallows and Fred was killed in the final battle.\n",
       "Name: info, dtype: object"
      ]
     },
     "execution_count": 649,
     "metadata": {},
     "output_type": "execute_result"
    }
   ],
   "source": [
    "df[df.name == 'Weasley, Fred and George']['info']"
   ]
  },
  {
   "cell_type": "markdown",
   "metadata": {},
   "source": [
    "I'm not sure what to do with this information yet. I'd like to have separate inputs for each one. I might get their info from a different site. "
   ]
  },
  {
   "cell_type": "code",
   "execution_count": 650,
   "metadata": {},
   "outputs": [],
   "source": [
    "# create list of names from the dataframe\n",
    "info_names_list = list(df.name)"
   ]
  },
  {
   "cell_type": "code",
   "execution_count": 582,
   "metadata": {},
   "outputs": [],
   "source": [
    "#info_names_list"
   ]
  },
  {
   "cell_type": "code",
   "execution_count": 583,
   "metadata": {},
   "outputs": [],
   "source": [
    "#all_orig_character_names"
   ]
  },
  {
   "cell_type": "code",
   "execution_count": 651,
   "metadata": {},
   "outputs": [],
   "source": [
    "# split name on comma \n",
    "def get_first_and_last_name(name):\n",
    "    '''\n",
    "    This function takes a string that is seperated by a comma, \n",
    "    and returns the first and last name in that order\n",
    "    '''\n",
    "     # split string on comma\n",
    "    full_name = name.split(', ')\n",
    "    \n",
    "    if len(full_name) < 2:\n",
    "        \n",
    "        return full_name[0]\n",
    "    \n",
    "    # last name is the first element in the list\n",
    "    last_name = full_name[0]\n",
    "    \n",
    "    # first name is the second element in the list\n",
    "    first_name = full_name[1]\n",
    "    \n",
    "    # concat first and last name together with a space\n",
    "    new_name = first_name + ' ' + last_name\n",
    "\n",
    "    \n",
    "    return new_name\n",
    "    "
   ]
  },
  {
   "cell_type": "code",
   "execution_count": 652,
   "metadata": {},
   "outputs": [],
   "source": [
    "# initalize blank new list\n",
    "\n",
    "info_names_list_new = []\n",
    "\n",
    "for name in info_names_list:\n",
    "    new_name = get_first_and_last_name(name)\n",
    "    info_names_list_new.append(new_name)"
   ]
  },
  {
   "cell_type": "code",
   "execution_count": 653,
   "metadata": {},
   "outputs": [
    {
     "data": {
      "text/plain": [
       "('Hannah Abbot', 695)"
      ]
     },
     "execution_count": 653,
     "metadata": {},
     "output_type": "execute_result"
    }
   ],
   "source": [
    "# check to see if it worked\n",
    "info_names_list_new[0], len(info_names_list_new)"
   ]
  },
  {
   "cell_type": "code",
   "execution_count": 654,
   "metadata": {},
   "outputs": [],
   "source": [
    "# set up lists\n",
    "\n",
    "has_info = []\n",
    "does_not_have_info = []\n",
    "\n",
    "#loop through the original character names to see if we have info on them\n",
    "for name in all_orig_character_names:\n",
    "    \n",
    "    # add to the has info list if we have bio info on them\n",
    "    if name in info_names_list_new:\n",
    "        has_info.append(name)\n",
    "        \n",
    "    # add to does not have info list if we don't\n",
    "    else:\n",
    "        does_not_have_info.append(name)"
   ]
  },
  {
   "cell_type": "code",
   "execution_count": 655,
   "metadata": {},
   "outputs": [],
   "source": [
    "for name in has_info:\n",
    "    df.loc"
   ]
  },
  {
   "cell_type": "code",
   "execution_count": 656,
   "metadata": {},
   "outputs": [],
   "source": [
    "from operator import itemgetter"
   ]
  },
  {
   "cell_type": "code",
   "execution_count": 657,
   "metadata": {},
   "outputs": [],
   "source": [
    "# Loop through all names in the json dictionary\n",
    "\n",
    "json_names = list(map(itemgetter('name'), data))\n",
    "\n",
    "# If the name is in the has info list \n",
    "\n",
    "peeps_with_info = [person for person in json_names if person in has_info]\n",
    "\n",
    "# pull info from dataframe (maybe do a seperate function for this get info from dataframe)\n",
    "\n",
    "# assign to new dictionary key 'info'\n",
    "\n",
    "# if not\n",
    "\n",
    "# assign \"no info available for this character\" to the key \"info\"\n",
    "\n"
   ]
  },
  {
   "cell_type": "code",
   "execution_count": 658,
   "metadata": {},
   "outputs": [],
   "source": [
    "# change names around in df\n",
    "\n",
    "df['first_last'] = df.name.apply(get_first_and_last_name)"
   ]
  },
  {
   "cell_type": "code",
   "execution_count": 659,
   "metadata": {},
   "outputs": [
    {
     "data": {
      "text/html": [
       "<div>\n",
       "<style scoped>\n",
       "    .dataframe tbody tr th:only-of-type {\n",
       "        vertical-align: middle;\n",
       "    }\n",
       "\n",
       "    .dataframe tbody tr th {\n",
       "        vertical-align: top;\n",
       "    }\n",
       "\n",
       "    .dataframe thead th {\n",
       "        text-align: right;\n",
       "    }\n",
       "</style>\n",
       "<table border=\"1\" class=\"dataframe\">\n",
       "  <thead>\n",
       "    <tr style=\"text-align: right;\">\n",
       "      <th></th>\n",
       "      <th>name</th>\n",
       "      <th>info</th>\n",
       "      <th>first_last</th>\n",
       "    </tr>\n",
       "  </thead>\n",
       "  <tbody>\n",
       "    <tr>\n",
       "      <th>2</th>\n",
       "      <td>Abercrombie, Euan</td>\n",
       "      <td>A Gryffindor student who first came to Hogwarts in Harry’s 4th year.</td>\n",
       "      <td>Euan Abercrombie</td>\n",
       "    </tr>\n",
       "    <tr>\n",
       "      <th>5</th>\n",
       "      <td>Agnes</td>\n",
       "      <td>A patient in St. Mungo’s who’s head is covered in fur and barks instead of speaks.</td>\n",
       "      <td>Agnes</td>\n",
       "    </tr>\n",
       "    <tr>\n",
       "      <th>6</th>\n",
       "      <td>Agrippa, Cornelius</td>\n",
       "      <td>Living from 1486 - 1535 and was on a wizard card saying celebrated wizard imprisoned by Muggles for his writing, because they thought his books were evil”. She is also the only card that Ron does not have in his collection (along with Ptolemy).</td>\n",
       "      <td>Cornelius Agrippa</td>\n",
       "    </tr>\n",
       "    <tr>\n",
       "      <th>11</th>\n",
       "      <td>Aragog</td>\n",
       "      <td>The creature that was believed to be the monster inside the Chamber of Secrets. Was raised by Hagrid inside the castle and is an acromantula. Lives in the forest with it’s family, and ordered Harry and Ron to be killed in Book 2. He also died in Book 6.</td>\n",
       "      <td>Aragog</td>\n",
       "    </tr>\n",
       "    <tr>\n",
       "      <th>12</th>\n",
       "      <td>Arnold</td>\n",
       "      <td>Ginny’s pet Pygmy Puff.</td>\n",
       "      <td>Arnold</td>\n",
       "    </tr>\n",
       "    <tr>\n",
       "      <th>...</th>\n",
       "      <td>...</td>\n",
       "      <td>...</td>\n",
       "      <td>...</td>\n",
       "    </tr>\n",
       "    <tr>\n",
       "      <th>685</th>\n",
       "      <td>Wright, Bowman</td>\n",
       "      <td>Created the golden snitch.</td>\n",
       "      <td>Bowman Wright</td>\n",
       "    </tr>\n",
       "    <tr>\n",
       "      <th>690</th>\n",
       "      <td>Yvonne</td>\n",
       "      <td>A friend of Mr. Durlsey’s who Mrs. Dursley said they should call to watch Harry in book 1.</td>\n",
       "      <td>Yvonne</td>\n",
       "    </tr>\n",
       "    <tr>\n",
       "      <th>691</th>\n",
       "      <td>Zabini, Blaise</td>\n",
       "      <td>A Slytherin boy in Harry’s year who, when Slughorn was complimenting Harry and saying that he had great power, coughed sarcastically. Ginny then yelled at him saying, “Yeah, Zabini, because you’re so talented…at posing…”. His mother was famous for being beautiful and marrying 7 times; each to a witch wizard who died of a mysterious death. He does not like muggle borns or blood traitors either, like Draco Malfoy.</td>\n",
       "      <td>Blaise Zabini</td>\n",
       "    </tr>\n",
       "    <tr>\n",
       "      <th>693</th>\n",
       "      <td>Zamojski, Ladislaw</td>\n",
       "      <td>A Polish chaser that Ron was compared to from one of his saves (comparison from Zamojski as chaser to Ryan from the Irish National Quidditch team as keeper).</td>\n",
       "      <td>Ladislaw Zamojski</td>\n",
       "    </tr>\n",
       "    <tr>\n",
       "      <th>694</th>\n",
       "      <td>Zeller, Rose</td>\n",
       "      <td>A girl sorted into Hufflepuff in Book 5.</td>\n",
       "      <td>Rose Zeller</td>\n",
       "    </tr>\n",
       "  </tbody>\n",
       "</table>\n",
       "<p>302 rows × 3 columns</p>\n",
       "</div>"
      ],
      "text/plain": [
       "                   name  \\\n",
       "2     Abercrombie, Euan   \n",
       "5                 Agnes   \n",
       "6    Agrippa, Cornelius   \n",
       "11               Aragog   \n",
       "12               Arnold   \n",
       "..                  ...   \n",
       "685      Wright, Bowman   \n",
       "690              Yvonne   \n",
       "691      Zabini, Blaise   \n",
       "693  Zamojski, Ladislaw   \n",
       "694        Zeller, Rose   \n",
       "\n",
       "                                                                                                                                                                                                                                                                                                                                                                                                                                 info  \\\n",
       "2                                                                                                                                                                                                                                                                                                                                                                A Gryffindor student who first came to Hogwarts in Harry’s 4th year.   \n",
       "5                                                                                                                                                                                                                                                                                                                                                  A patient in St. Mungo’s who’s head is covered in fur and barks instead of speaks.   \n",
       "6                                                                                                                                                                                Living from 1486 - 1535 and was on a wizard card saying celebrated wizard imprisoned by Muggles for his writing, because they thought his books were evil”. She is also the only card that Ron does not have in his collection (along with Ptolemy).   \n",
       "11                                                                                                                                                                      The creature that was believed to be the monster inside the Chamber of Secrets. Was raised by Hagrid inside the castle and is an acromantula. Lives in the forest with it’s family, and ordered Harry and Ron to be killed in Book 2. He also died in Book 6.   \n",
       "12                                                                                                                                                                                                                                                                                                                                                                                                            Ginny’s pet Pygmy Puff.   \n",
       "..                                                                                                                                                                                                                                                                                                                                                                                                                                ...   \n",
       "685                                                                                                                                                                                                                                                                                                                                                                                                        Created the golden snitch.   \n",
       "690                                                                                                                                                                                                                                                                                                                                        A friend of Mr. Durlsey’s who Mrs. Dursley said they should call to watch Harry in book 1.   \n",
       "691   A Slytherin boy in Harry’s year who, when Slughorn was complimenting Harry and saying that he had great power, coughed sarcastically. Ginny then yelled at him saying, “Yeah, Zabini, because you’re so talented…at posing…”. His mother was famous for being beautiful and marrying 7 times; each to a witch wizard who died of a mysterious death. He does not like muggle borns or blood traitors either, like Draco Malfoy.   \n",
       "693                                                                                                                                                                                                                                                                     A Polish chaser that Ron was compared to from one of his saves (comparison from Zamojski as chaser to Ryan from the Irish National Quidditch team as keeper).   \n",
       "694                                                                                                                                                                                                                                                                                                                                                                                          A girl sorted into Hufflepuff in Book 5.   \n",
       "\n",
       "            first_last  \n",
       "2     Euan Abercrombie  \n",
       "5                Agnes  \n",
       "6    Cornelius Agrippa  \n",
       "11              Aragog  \n",
       "12              Arnold  \n",
       "..                 ...  \n",
       "685      Bowman Wright  \n",
       "690             Yvonne  \n",
       "691      Blaise Zabini  \n",
       "693  Ladislaw Zamojski  \n",
       "694        Rose Zeller  \n",
       "\n",
       "[302 rows x 3 columns]"
      ]
     },
     "execution_count": 659,
     "metadata": {},
     "output_type": "execute_result"
    }
   ],
   "source": [
    "#use .loc to find all the people in the dataframe who are also in the json\n",
    "df.loc[df.first_last.isin(peeps_with_info) == True]"
   ]
  },
  {
   "cell_type": "code",
   "execution_count": 660,
   "metadata": {},
   "outputs": [
    {
     "data": {
      "text/plain": [
       "302"
      ]
     },
     "execution_count": 660,
     "metadata": {},
     "output_type": "execute_result"
    }
   ],
   "source": [
    "len([person for person in json_names if person in has_info])"
   ]
  },
  {
   "cell_type": "code",
   "execution_count": 661,
   "metadata": {},
   "outputs": [],
   "source": [
    "json_df = pd.DataFrame(data)"
   ]
  },
  {
   "cell_type": "code",
   "execution_count": 662,
   "metadata": {},
   "outputs": [
    {
     "data": {
      "text/html": [
       "<div>\n",
       "<style scoped>\n",
       "    .dataframe tbody tr th:only-of-type {\n",
       "        vertical-align: middle;\n",
       "    }\n",
       "\n",
       "    .dataframe tbody tr th {\n",
       "        vertical-align: top;\n",
       "    }\n",
       "\n",
       "    .dataframe thead th {\n",
       "        text-align: right;\n",
       "    }\n",
       "</style>\n",
       "<table border=\"1\" class=\"dataframe\">\n",
       "  <thead>\n",
       "    <tr style=\"text-align: right;\">\n",
       "      <th></th>\n",
       "      <th>id</th>\n",
       "      <th>name</th>\n",
       "      <th>birth</th>\n",
       "      <th>death</th>\n",
       "      <th>species</th>\n",
       "      <th>ancestry</th>\n",
       "      <th>gender</th>\n",
       "      <th>hair_color</th>\n",
       "      <th>eye_color</th>\n",
       "      <th>wand</th>\n",
       "      <th>patronus</th>\n",
       "      <th>house</th>\n",
       "      <th>associated_groups</th>\n",
       "      <th>books_featured_in</th>\n",
       "    </tr>\n",
       "  </thead>\n",
       "  <tbody>\n",
       "    <tr>\n",
       "      <th>0</th>\n",
       "      <td>1</td>\n",
       "      <td>Euan Abercrombie</td>\n",
       "      <td>between 1 September 1983 and 31 August 1984</td>\n",
       "      <td>None</td>\n",
       "      <td>Human</td>\n",
       "      <td>None</td>\n",
       "      <td>Male</td>\n",
       "      <td>None</td>\n",
       "      <td>None</td>\n",
       "      <td>None</td>\n",
       "      <td>None</td>\n",
       "      <td>Gryffindor</td>\n",
       "      <td>[Hogwarts School of Witchcraft and Wizardry, Gryffindor]</td>\n",
       "      <td>[5]</td>\n",
       "    </tr>\n",
       "    <tr>\n",
       "      <th>1</th>\n",
       "      <td>2</td>\n",
       "      <td>Stewart Ackerley</td>\n",
       "      <td>between 1 September 1982and 31 August 1983</td>\n",
       "      <td>None</td>\n",
       "      <td>Human</td>\n",
       "      <td>None</td>\n",
       "      <td>Male</td>\n",
       "      <td>None</td>\n",
       "      <td>None</td>\n",
       "      <td>None</td>\n",
       "      <td>None</td>\n",
       "      <td>Ravenclaw</td>\n",
       "      <td>[]</td>\n",
       "      <td>[4]</td>\n",
       "    </tr>\n",
       "    <tr>\n",
       "      <th>2</th>\n",
       "      <td>3</td>\n",
       "      <td>African prince</td>\n",
       "      <td>None</td>\n",
       "      <td>None</td>\n",
       "      <td>Human</td>\n",
       "      <td>Muggle-born or half-blood (possibly)</td>\n",
       "      <td>Male</td>\n",
       "      <td>None</td>\n",
       "      <td>None</td>\n",
       "      <td>None</td>\n",
       "      <td>None</td>\n",
       "      <td>None</td>\n",
       "      <td>[Africa]</td>\n",
       "      <td>[1]</td>\n",
       "    </tr>\n",
       "    <tr>\n",
       "      <th>3</th>\n",
       "      <td>4</td>\n",
       "      <td>Agnes's son</td>\n",
       "      <td>None</td>\n",
       "      <td>None</td>\n",
       "      <td>Human</td>\n",
       "      <td>None</td>\n",
       "      <td>Male</td>\n",
       "      <td>None</td>\n",
       "      <td>None</td>\n",
       "      <td>None</td>\n",
       "      <td>None</td>\n",
       "      <td>None</td>\n",
       "      <td>[]</td>\n",
       "      <td>[5]</td>\n",
       "    </tr>\n",
       "    <tr>\n",
       "      <th>4</th>\n",
       "      <td>5</td>\n",
       "      <td>Cornelius Agrippa</td>\n",
       "      <td>1486</td>\n",
       "      <td>1535 (aged 48 - 49)</td>\n",
       "      <td>Human</td>\n",
       "      <td>None</td>\n",
       "      <td>Male</td>\n",
       "      <td>Brown</td>\n",
       "      <td>Green</td>\n",
       "      <td>None</td>\n",
       "      <td>None</td>\n",
       "      <td>None</td>\n",
       "      <td>[]</td>\n",
       "      <td>[1]</td>\n",
       "    </tr>\n",
       "  </tbody>\n",
       "</table>\n",
       "</div>"
      ],
      "text/plain": [
       "   id               name                                        birth  \\\n",
       "0   1   Euan Abercrombie  between 1 September 1983 and 31 August 1984   \n",
       "1   2   Stewart Ackerley   between 1 September 1982and 31 August 1983   \n",
       "2   3     African prince                                         None   \n",
       "3   4        Agnes's son                                         None   \n",
       "4   5  Cornelius Agrippa                                         1486   \n",
       "\n",
       "                 death species                              ancestry gender  \\\n",
       "0                 None   Human                                  None   Male   \n",
       "1                 None   Human                                  None   Male   \n",
       "2                 None   Human  Muggle-born or half-blood (possibly)   Male   \n",
       "3                 None   Human                                  None   Male   \n",
       "4  1535 (aged 48 - 49)   Human                                  None   Male   \n",
       "\n",
       "  hair_color eye_color  wand patronus       house  \\\n",
       "0       None      None  None     None  Gryffindor   \n",
       "1       None      None  None     None   Ravenclaw   \n",
       "2       None      None  None     None        None   \n",
       "3       None      None  None     None        None   \n",
       "4      Brown     Green  None     None        None   \n",
       "\n",
       "                                          associated_groups books_featured_in  \n",
       "0  [Hogwarts School of Witchcraft and Wizardry, Gryffindor]               [5]  \n",
       "1                                                        []               [4]  \n",
       "2                                                  [Africa]               [1]  \n",
       "3                                                        []               [5]  \n",
       "4                                                        []               [1]  "
      ]
     },
     "execution_count": 662,
     "metadata": {},
     "output_type": "execute_result"
    }
   ],
   "source": [
    "json_df.head()"
   ]
  },
  {
   "cell_type": "code",
   "execution_count": 663,
   "metadata": {},
   "outputs": [],
   "source": [
    "new_df = json_df.merge(df, how='inner', left_on='name', right_on='first_last').drop(columns = ['name_y', 'first_last'])"
   ]
  },
  {
   "cell_type": "code",
   "execution_count": 664,
   "metadata": {},
   "outputs": [
    {
     "data": {
      "text/html": [
       "<div>\n",
       "<style scoped>\n",
       "    .dataframe tbody tr th:only-of-type {\n",
       "        vertical-align: middle;\n",
       "    }\n",
       "\n",
       "    .dataframe tbody tr th {\n",
       "        vertical-align: top;\n",
       "    }\n",
       "\n",
       "    .dataframe thead th {\n",
       "        text-align: right;\n",
       "    }\n",
       "</style>\n",
       "<table border=\"1\" class=\"dataframe\">\n",
       "  <thead>\n",
       "    <tr style=\"text-align: right;\">\n",
       "      <th></th>\n",
       "      <th>id</th>\n",
       "      <th>name_x</th>\n",
       "      <th>birth</th>\n",
       "      <th>death</th>\n",
       "      <th>species</th>\n",
       "      <th>ancestry</th>\n",
       "      <th>gender</th>\n",
       "      <th>hair_color</th>\n",
       "      <th>eye_color</th>\n",
       "      <th>wand</th>\n",
       "      <th>patronus</th>\n",
       "      <th>house</th>\n",
       "      <th>associated_groups</th>\n",
       "      <th>books_featured_in</th>\n",
       "      <th>info</th>\n",
       "    </tr>\n",
       "  </thead>\n",
       "  <tbody>\n",
       "    <tr>\n",
       "      <th>0</th>\n",
       "      <td>1</td>\n",
       "      <td>Euan Abercrombie</td>\n",
       "      <td>between 1 September 1983 and 31 August 1984</td>\n",
       "      <td>None</td>\n",
       "      <td>Human</td>\n",
       "      <td>None</td>\n",
       "      <td>Male</td>\n",
       "      <td>None</td>\n",
       "      <td>None</td>\n",
       "      <td>None</td>\n",
       "      <td>None</td>\n",
       "      <td>Gryffindor</td>\n",
       "      <td>[Hogwarts School of Witchcraft and Wizardry, Gryffindor]</td>\n",
       "      <td>[5]</td>\n",
       "      <td>A Gryffindor student who first came to Hogwarts in Harry’s 4th year.</td>\n",
       "    </tr>\n",
       "    <tr>\n",
       "      <th>1</th>\n",
       "      <td>5</td>\n",
       "      <td>Cornelius Agrippa</td>\n",
       "      <td>1486</td>\n",
       "      <td>1535 (aged 48 - 49)</td>\n",
       "      <td>Human</td>\n",
       "      <td>None</td>\n",
       "      <td>Male</td>\n",
       "      <td>Brown</td>\n",
       "      <td>Green</td>\n",
       "      <td>None</td>\n",
       "      <td>None</td>\n",
       "      <td>None</td>\n",
       "      <td>[]</td>\n",
       "      <td>[1]</td>\n",
       "      <td>Living from 1486 - 1535 and was on a wizard card saying celebrated wizard imprisoned by Muggles for his writing, because they thought his books were evil”. She is also the only card that Ron does not have in his collection (along with Ptolemy).</td>\n",
       "    </tr>\n",
       "    <tr>\n",
       "      <th>2</th>\n",
       "      <td>11</td>\n",
       "      <td>Aragog</td>\n",
       "      <td>c. 1942</td>\n",
       "      <td>20 April, 1997 (aged around 55)</td>\n",
       "      <td>Acromantula</td>\n",
       "      <td>None</td>\n",
       "      <td>Male</td>\n",
       "      <td>Brown</td>\n",
       "      <td>Black &amp; Grey/Milky-White (Blind)</td>\n",
       "      <td>None</td>\n",
       "      <td>None</td>\n",
       "      <td>None</td>\n",
       "      <td>[Rubeus Hagrid, Forbidden Forest Acromantula colony]</td>\n",
       "      <td>[2, 5, 6, 7]</td>\n",
       "      <td>The creature that was believed to be the monster inside the Chamber of Secrets. Was raised by Hagrid inside the castle and is an acromantula. Lives in the forest with it’s family, and ordered Harry and Ron to be killed in Book 2. He also died in Book 6.</td>\n",
       "    </tr>\n",
       "    <tr>\n",
       "      <th>3</th>\n",
       "      <td>15</td>\n",
       "      <td>Arnold</td>\n",
       "      <td>c. 1996</td>\n",
       "      <td>None</td>\n",
       "      <td>Pygmy Puff</td>\n",
       "      <td>None</td>\n",
       "      <td>Male</td>\n",
       "      <td>Purple</td>\n",
       "      <td>None</td>\n",
       "      <td>None</td>\n",
       "      <td>None</td>\n",
       "      <td>None</td>\n",
       "      <td>[Ginny Weasley]</td>\n",
       "      <td>[6]</td>\n",
       "      <td>Ginny’s pet Pygmy Puff.</td>\n",
       "    </tr>\n",
       "    <tr>\n",
       "      <th>4</th>\n",
       "      <td>16</td>\n",
       "      <td>Bertram Aubrey</td>\n",
       "      <td>c. 1950s - 1960s, Great Britain or Ireland</td>\n",
       "      <td>None</td>\n",
       "      <td>Human</td>\n",
       "      <td>None</td>\n",
       "      <td>Male</td>\n",
       "      <td>None</td>\n",
       "      <td>None</td>\n",
       "      <td>None</td>\n",
       "      <td>None</td>\n",
       "      <td>None</td>\n",
       "      <td>[Hogwarts School of Witchcraft and Wizardry]</td>\n",
       "      <td>[6]</td>\n",
       "      <td>A boy that Sirius and James Potter used an illegal hex on that made his head swell to twice it’s normal size.</td>\n",
       "    </tr>\n",
       "  </tbody>\n",
       "</table>\n",
       "</div>"
      ],
      "text/plain": [
       "   id             name_x                                        birth  \\\n",
       "0   1   Euan Abercrombie  between 1 September 1983 and 31 August 1984   \n",
       "1   5  Cornelius Agrippa                                         1486   \n",
       "2  11             Aragog                                      c. 1942   \n",
       "3  15             Arnold                                      c. 1996   \n",
       "4  16     Bertram Aubrey   c. 1950s - 1960s, Great Britain or Ireland   \n",
       "\n",
       "                             death      species ancestry gender hair_color  \\\n",
       "0                             None        Human     None   Male       None   \n",
       "1              1535 (aged 48 - 49)        Human     None   Male      Brown   \n",
       "2  20 April, 1997 (aged around 55)  Acromantula     None   Male      Brown   \n",
       "3                             None   Pygmy Puff     None   Male     Purple   \n",
       "4                             None        Human     None   Male       None   \n",
       "\n",
       "                          eye_color  wand patronus       house  \\\n",
       "0                              None  None     None  Gryffindor   \n",
       "1                             Green  None     None        None   \n",
       "2  Black & Grey/Milky-White (Blind)  None     None        None   \n",
       "3                              None  None     None        None   \n",
       "4                              None  None     None        None   \n",
       "\n",
       "                                          associated_groups books_featured_in  \\\n",
       "0  [Hogwarts School of Witchcraft and Wizardry, Gryffindor]               [5]   \n",
       "1                                                        []               [1]   \n",
       "2      [Rubeus Hagrid, Forbidden Forest Acromantula colony]      [2, 5, 6, 7]   \n",
       "3                                           [Ginny Weasley]               [6]   \n",
       "4              [Hogwarts School of Witchcraft and Wizardry]               [6]   \n",
       "\n",
       "                                                                                                                                                                                                                                                              info  \n",
       "0                                                                                                                                                                                             A Gryffindor student who first came to Hogwarts in Harry’s 4th year.  \n",
       "1             Living from 1486 - 1535 and was on a wizard card saying celebrated wizard imprisoned by Muggles for his writing, because they thought his books were evil”. She is also the only card that Ron does not have in his collection (along with Ptolemy).  \n",
       "2    The creature that was believed to be the monster inside the Chamber of Secrets. Was raised by Hagrid inside the castle and is an acromantula. Lives in the forest with it’s family, and ordered Harry and Ron to be killed in Book 2. He also died in Book 6.  \n",
       "3                                                                                                                                                                                                                                          Ginny’s pet Pygmy Puff.  \n",
       "4                                                                                                                                                    A boy that Sirius and James Potter used an illegal hex on that made his head swell to twice it’s normal size.  "
      ]
     },
     "execution_count": 664,
     "metadata": {},
     "output_type": "execute_result"
    }
   ],
   "source": [
    "new_df.head()"
   ]
  },
  {
   "cell_type": "code",
   "execution_count": 665,
   "metadata": {},
   "outputs": [
    {
     "name": "stdout",
     "output_type": "stream",
     "text": [
      "<class 'pandas.core.frame.DataFrame'>\n",
      "Int64Index: 303 entries, 0 to 302\n",
      "Data columns (total 15 columns):\n",
      " #   Column             Non-Null Count  Dtype \n",
      "---  ------             --------------  ----- \n",
      " 0   id                 303 non-null    int64 \n",
      " 1   name_x             303 non-null    object\n",
      " 2   birth              231 non-null    object\n",
      " 3   death              80 non-null     object\n",
      " 4   species            302 non-null    object\n",
      " 5   ancestry           127 non-null    object\n",
      " 6   gender             302 non-null    object\n",
      " 7   hair_color         153 non-null    object\n",
      " 8   eye_color          81 non-null     object\n",
      " 9   wand               62 non-null     object\n",
      " 10  patronus           71 non-null     object\n",
      " 11  house              102 non-null    object\n",
      " 12  associated_groups  303 non-null    object\n",
      " 13  books_featured_in  303 non-null    object\n",
      " 14  info               303 non-null    object\n",
      "dtypes: int64(1), object(14)\n",
      "memory usage: 37.9+ KB\n"
     ]
    }
   ],
   "source": [
    "new_df.info()"
   ]
  },
  {
   "cell_type": "code",
   "execution_count": 666,
   "metadata": {},
   "outputs": [],
   "source": [
    "# rename name column\n",
    "\n",
    "new_df = new_df.rename(columns={'name_x': 'name'})"
   ]
  },
  {
   "cell_type": "code",
   "execution_count": 667,
   "metadata": {},
   "outputs": [],
   "source": [
    "# fill nulls\n",
    "new_df = new_df.fillna('None')"
   ]
  },
  {
   "cell_type": "code",
   "execution_count": 668,
   "metadata": {},
   "outputs": [],
   "source": [
    "data2 = new_df.to_json(orient = 'records')\n",
    "\n",
    "# this converts it from a json string to a list of dictionaries\n",
    "data2 = list(eval(data2))"
   ]
  },
  {
   "cell_type": "code",
   "execution_count": 669,
   "metadata": {},
   "outputs": [
    {
     "data": {
      "text/plain": [
       "['Heathcote Barbary',\n",
       " 'Humphrey Belcher',\n",
       " 'Harold Dingle',\n",
       " 'Harper',\n",
       " 'Hermes',\n",
       " 'Hassan Mostafa',\n",
       " 'Horace Slughorn',\n",
       " 'Herman Wintringham',\n",
       " 'Hengist of Woodcroft',\n",
       " 'Hetty Bayliss',\n",
       " 'Hedwig',\n",
       " 'Hedwig',\n",
       " 'Hokey',\n",
       " 'Helga Hufflepuff',\n",
       " 'Hestia Jones',\n",
       " 'Hepzibah Smith']"
      ]
     },
     "execution_count": 669,
     "metadata": {},
     "output_type": "execute_result"
    }
   ],
   "source": [
    "[person['name'] for person in data2 if person['name'].lower().startswith('h')]\n"
   ]
  },
  {
   "cell_type": "code",
   "execution_count": 670,
   "metadata": {},
   "outputs": [
    {
     "name": "stdout",
     "output_type": "stream",
     "text": [
      "Hepzibah Smith :  A witch who had Tom Riddle over to her house many times, usually on business (Tom them worked in Borgin and Burkes). She showed him a silver cup with 2 finely wrought handles, and said that it belonged to Helga Hufflepuff, and that she was the heir to Hufflepuff. She also showed him a golden locket that had a S with serpent letters that had belonged to Salazar Slytherin. She died 2 days after this after supposedly being murdered by her house elf Hokey, and her 2 items were missing (But was really Tom Riddle who killed her for her special items and then taken them).\n"
     ]
    }
   ],
   "source": [
    "search_name = 'Hepzibah Smith'\n",
    "\n",
    "for person in data2:\n",
    "    if person['name'].lower() == search_name.lower():\n",
    "        #time.sleep(2.0)\n",
    "        print(\"{name} : {info}\".format(name = capitalize_name(person['name']), info = person['info']))"
   ]
  },
  {
   "cell_type": "code",
   "execution_count": 671,
   "metadata": {},
   "outputs": [
    {
     "name": "stdout",
     "output_type": "stream",
     "text": [
      "{'id': 326, 'name': 'Harry Potter', 'birth': '31 July, 1980', 'death': None, 'species': 'Human', 'ancestry': 'Half-blood', 'gender': 'Male', 'hair_color': 'Jet-black', 'eye_color': 'Bottle green', 'wand': '11\", Holly, phoenix feather', 'patronus': 'Stag', 'house': 'Gryffindor', 'associated_groups': ['Potter family', 'Weasley family', 'Albus Dumbledore', \"Dumbledore's Army\", 'Order of the Phoenix', 'Hogwarts School of Witchcraft and Wizardry', 'Gryffindor', 'Gryffindor Quidditch team', 'Slug Club', 'British Ministry of Magic', 'Auror Office', 'Department of Magical Law Enforcement', 'S.P.E.W.'], 'books_featured_in': [1, 2, 3, 4, 5, 6, 7]}\n"
     ]
    }
   ],
   "source": [
    "for person in data:\n",
    "    if person['name'].lower() == 'harry potter':\n",
    "        print(person)"
   ]
  },
  {
   "cell_type": "markdown",
   "metadata": {},
   "source": [
    "I know I've been going off on some tangents but that's just how my brain has been working recently. I'm going to try and create a function that lets me compare the names in the two data structures so that I can fix the issue of having Harry Potter and Harry James Potter. This will probably take a while.\n",
    "But right now I'm gonna try to do it with pandas series.\n",
    "\n",
    "Found [this article](https://towardsdatascience.com/fuzzywuzzy-find-similar-strings-within-one-column-in-a-pandas-data-frame-99f6c2a0c212) that should be helpful.\n",
    "\n",
    "[This one](https://pythoninoffice.com/how-to-find-similar-strings-using-python/) too"
   ]
  },
  {
   "cell_type": "code",
   "execution_count": 672,
   "metadata": {},
   "outputs": [],
   "source": [
    "# create list of charachters\n",
    "char_list = pd.Series([person['name'] for person in data])"
   ]
  },
  {
   "cell_type": "code",
   "execution_count": 673,
   "metadata": {},
   "outputs": [
    {
     "data": {
      "text/plain": [
       "1            Hannah Abbot\n",
       "3        Steward Ackerley\n",
       "4          Falcon Aesalon\n",
       "7      Archibald Alderton\n",
       "8         Alguf the Awful\n",
       "              ...        \n",
       "687              ? Yaxley\n",
       "688       Lysandra Yaxley\n",
       "689        Cyprian Youdle\n",
       "692              ? Zabini\n",
       "695              ? Zograf\n",
       "Name: first_last, Length: 393, dtype: object"
      ]
     },
     "execution_count": 673,
     "metadata": {},
     "output_type": "execute_result"
    }
   ],
   "source": [
    "# ah do a boolean then look at the ones that are different\n",
    "\n",
    "df[df.first_last.isin(char_list) == False]['first_last']"
   ]
  },
  {
   "cell_type": "code",
   "execution_count": 607,
   "metadata": {},
   "outputs": [],
   "source": [
    "# import the fuzzywuzzy library\n",
    "from fuzzywuzzy import process, fuzz\n",
    "\n",
    "# had to install python-Levenshtein to get this to work right"
   ]
  },
  {
   "cell_type": "code",
   "execution_count": 688,
   "metadata": {},
   "outputs": [],
   "source": [
    "df['first_last'] = df.name.apply(get_first_and_last_name)"
   ]
  },
  {
   "cell_type": "code",
   "execution_count": 689,
   "metadata": {},
   "outputs": [],
   "source": [
    "name_list = list(df.first_last)\n",
    "name_list.extend(char_list)\n",
    "\n"
   ]
  },
  {
   "cell_type": "code",
   "execution_count": 690,
   "metadata": {},
   "outputs": [],
   "source": [
    "# strip whitespace\n",
    "name_list = [name.strip() for name in name_list]"
   ]
  },
  {
   "cell_type": "code",
   "execution_count": 691,
   "metadata": {},
   "outputs": [],
   "source": [
    "# think there's a better way to do this with series\n",
    "\n",
    "# create series from datframe\n",
    "name_series = df.first_last\n",
    "\n",
    "# append the character list\n",
    "name_series = name_series.append(char_list)\n",
    "\n",
    "#strip the whitespace\n",
    "name_series = name_series.str.strip()\n",
    "\n",
    "# get unique names\n",
    "unique_names_array = name_series.unique()\n",
    "\n",
    "# turn back into series\n",
    "unique_names_series = pd.Series(unique_names_array)\n",
    "\n",
    "# turn into list as well\n",
    "unique_names_list = list(unique_names_array)"
   ]
  },
  {
   "cell_type": "code",
   "execution_count": 692,
   "metadata": {},
   "outputs": [
    {
     "data": {
      "text/html": [
       "<div>\n",
       "<style scoped>\n",
       "    .dataframe tbody tr th:only-of-type {\n",
       "        vertical-align: middle;\n",
       "    }\n",
       "\n",
       "    .dataframe tbody tr th {\n",
       "        vertical-align: top;\n",
       "    }\n",
       "\n",
       "    .dataframe thead th {\n",
       "        text-align: right;\n",
       "    }\n",
       "</style>\n",
       "<table border=\"1\" class=\"dataframe\">\n",
       "  <thead>\n",
       "    <tr style=\"text-align: right;\">\n",
       "      <th></th>\n",
       "      <th>name_sort</th>\n",
       "      <th>match_sort</th>\n",
       "      <th>score_sort</th>\n",
       "    </tr>\n",
       "  </thead>\n",
       "  <tbody>\n",
       "    <tr>\n",
       "      <th>0</th>\n",
       "      <td>Hannah Abbot</td>\n",
       "      <td>Hannah Abbot</td>\n",
       "      <td>100</td>\n",
       "    </tr>\n",
       "    <tr>\n",
       "      <th>1</th>\n",
       "      <td>Hannah Abbot</td>\n",
       "      <td>Hannah Abbott</td>\n",
       "      <td>96</td>\n",
       "    </tr>\n",
       "    <tr>\n",
       "      <th>2</th>\n",
       "      <td>Hannah Abbot</td>\n",
       "      <td>Hannah Abbott's mother</td>\n",
       "      <td>71</td>\n",
       "    </tr>\n",
       "    <tr>\n",
       "      <th>3</th>\n",
       "      <td>Hannah Abbot</td>\n",
       "      <td>Bandon Banshee</td>\n",
       "      <td>46</td>\n",
       "    </tr>\n",
       "    <tr>\n",
       "      <th>4</th>\n",
       "      <td>Hannah Abbot</td>\n",
       "      <td>Flourish and Blotts (Manager)</td>\n",
       "      <td>46</td>\n",
       "    </tr>\n",
       "  </tbody>\n",
       "</table>\n",
       "</div>"
      ],
      "text/plain": [
       "      name_sort                     match_sort  score_sort\n",
       "0  Hannah Abbot                   Hannah Abbot         100\n",
       "1  Hannah Abbot                  Hannah Abbott          96\n",
       "2  Hannah Abbot         Hannah Abbott's mother          71\n",
       "3  Hannah Abbot                 Bandon Banshee          46\n",
       "4  Hannah Abbot  Flourish and Blotts (Manager)          46"
      ]
     },
     "execution_count": 692,
     "metadata": {},
     "output_type": "execute_result"
    }
   ],
   "source": [
    "#Create tuples of brand names, matched brand names, and the score\n",
    "score_sort = [(x,) + i\n",
    "             for x in unique_names_list\n",
    "             for i in process.extract(x, unique_names_list, scorer=fuzz.token_sort_ratio)]\n",
    "#Create a dataframe from the tuples\n",
    "similarity_sort = pd.DataFrame(score_sort, columns=['name_sort','match_sort','score_sort'])\n",
    "similarity_sort.head()"
   ]
  },
  {
   "cell_type": "code",
   "execution_count": 693,
   "metadata": {},
   "outputs": [
    {
     "data": {
      "text/html": [
       "<div>\n",
       "<style scoped>\n",
       "    .dataframe tbody tr th:only-of-type {\n",
       "        vertical-align: middle;\n",
       "    }\n",
       "\n",
       "    .dataframe tbody tr th {\n",
       "        vertical-align: top;\n",
       "    }\n",
       "\n",
       "    .dataframe thead th {\n",
       "        text-align: right;\n",
       "    }\n",
       "</style>\n",
       "<table border=\"1\" class=\"dataframe\">\n",
       "  <thead>\n",
       "    <tr style=\"text-align: right;\">\n",
       "      <th></th>\n",
       "      <th>name_sort</th>\n",
       "      <th>match_sort</th>\n",
       "      <th>score_sort</th>\n",
       "    </tr>\n",
       "  </thead>\n",
       "  <tbody>\n",
       "    <tr>\n",
       "      <th>0</th>\n",
       "      <td>Hannah Abbot</td>\n",
       "      <td>Hannah Abbot</td>\n",
       "      <td>100</td>\n",
       "    </tr>\n",
       "    <tr>\n",
       "      <th>1</th>\n",
       "      <td>Hannah Abbot</td>\n",
       "      <td>Hannah Abbott</td>\n",
       "      <td>96</td>\n",
       "    </tr>\n",
       "    <tr>\n",
       "      <th>2</th>\n",
       "      <td>Hannah Abbot</td>\n",
       "      <td>Hannah Abbott's mother</td>\n",
       "      <td>71</td>\n",
       "    </tr>\n",
       "    <tr>\n",
       "      <th>3</th>\n",
       "      <td>Hannah Abbot</td>\n",
       "      <td>Bandon Banshee</td>\n",
       "      <td>46</td>\n",
       "    </tr>\n",
       "    <tr>\n",
       "      <th>4</th>\n",
       "      <td>Hannah Abbot</td>\n",
       "      <td>Flourish and Blotts (Manager)</td>\n",
       "      <td>46</td>\n",
       "    </tr>\n",
       "    <tr>\n",
       "      <th>5</th>\n",
       "      <td>Euan Abercrombie</td>\n",
       "      <td>Euan Abercrombie</td>\n",
       "      <td>100</td>\n",
       "    </tr>\n",
       "    <tr>\n",
       "      <th>6</th>\n",
       "      <td>Euan Abercrombie</td>\n",
       "      <td>Frank Bryce</td>\n",
       "      <td>52</td>\n",
       "    </tr>\n",
       "    <tr>\n",
       "      <th>7</th>\n",
       "      <td>Euan Abercrombie</td>\n",
       "      <td>Madam Edgecombe</td>\n",
       "      <td>52</td>\n",
       "    </tr>\n",
       "    <tr>\n",
       "      <th>8</th>\n",
       "      <td>Euan Abercrombie</td>\n",
       "      <td>Ernie Prang</td>\n",
       "      <td>52</td>\n",
       "    </tr>\n",
       "    <tr>\n",
       "      <th>9</th>\n",
       "      <td>Euan Abercrombie</td>\n",
       "      <td>Lucian Bole</td>\n",
       "      <td>52</td>\n",
       "    </tr>\n",
       "  </tbody>\n",
       "</table>\n",
       "</div>"
      ],
      "text/plain": [
       "          name_sort                     match_sort  score_sort\n",
       "0      Hannah Abbot                   Hannah Abbot         100\n",
       "1      Hannah Abbot                  Hannah Abbott          96\n",
       "2      Hannah Abbot         Hannah Abbott's mother          71\n",
       "3      Hannah Abbot                 Bandon Banshee          46\n",
       "4      Hannah Abbot  Flourish and Blotts (Manager)          46\n",
       "5  Euan Abercrombie               Euan Abercrombie         100\n",
       "6  Euan Abercrombie                    Frank Bryce          52\n",
       "7  Euan Abercrombie                Madam Edgecombe          52\n",
       "8  Euan Abercrombie                    Ernie Prang          52\n",
       "9  Euan Abercrombie                    Lucian Bole          52"
      ]
     },
     "execution_count": 693,
     "metadata": {},
     "output_type": "execute_result"
    }
   ],
   "source": [
    "similarity_sort.head(10)"
   ]
  },
  {
   "cell_type": "code",
   "execution_count": 694,
   "metadata": {},
   "outputs": [
    {
     "data": {
      "text/html": [
       "<div>\n",
       "<style scoped>\n",
       "    .dataframe tbody tr th:only-of-type {\n",
       "        vertical-align: middle;\n",
       "    }\n",
       "\n",
       "    .dataframe tbody tr th {\n",
       "        vertical-align: top;\n",
       "    }\n",
       "\n",
       "    .dataframe thead th {\n",
       "        text-align: right;\n",
       "    }\n",
       "</style>\n",
       "<table border=\"1\" class=\"dataframe\">\n",
       "  <thead>\n",
       "    <tr style=\"text-align: right;\">\n",
       "      <th></th>\n",
       "      <th>name_sort</th>\n",
       "      <th>match_sort</th>\n",
       "      <th>score_sort</th>\n",
       "    </tr>\n",
       "  </thead>\n",
       "  <tbody>\n",
       "    <tr>\n",
       "      <th>5230</th>\n",
       "      <td>Portrait of a mermaid</td>\n",
       "      <td>Portrait of a mermaid</td>\n",
       "      <td>100</td>\n",
       "    </tr>\n",
       "    <tr>\n",
       "      <th>5235</th>\n",
       "      <td>Euphemia Potter</td>\n",
       "      <td>Euphemia Potter</td>\n",
       "      <td>100</td>\n",
       "    </tr>\n",
       "    <tr>\n",
       "      <th>5240</th>\n",
       "      <td>Molly Weasley's mother</td>\n",
       "      <td>Molly Weasley's mother</td>\n",
       "      <td>100</td>\n",
       "    </tr>\n",
       "    <tr>\n",
       "      <th>5245</th>\n",
       "      <td>Prime Minister's niece</td>\n",
       "      <td>Prime Minister's niece</td>\n",
       "      <td>100</td>\n",
       "    </tr>\n",
       "    <tr>\n",
       "      <th>5250</th>\n",
       "      <td>Elsie Prod</td>\n",
       "      <td>Elsie Prod</td>\n",
       "      <td>100</td>\n",
       "    </tr>\n",
       "    <tr>\n",
       "      <th>5255</th>\n",
       "      <td>Puddifoot</td>\n",
       "      <td>Puddifoot</td>\n",
       "      <td>100</td>\n",
       "    </tr>\n",
       "    <tr>\n",
       "      <th>5260</th>\n",
       "      <td>Helena Ravenclaw</td>\n",
       "      <td>Helena Ravenclaw</td>\n",
       "      <td>100</td>\n",
       "    </tr>\n",
       "    <tr>\n",
       "      <th>5265</th>\n",
       "      <td>Maisy Reynolds</td>\n",
       "      <td>Maisy Reynolds</td>\n",
       "      <td>100</td>\n",
       "    </tr>\n",
       "    <tr>\n",
       "      <th>5270</th>\n",
       "      <td>Mary Riddle</td>\n",
       "      <td>Mary Riddle</td>\n",
       "      <td>100</td>\n",
       "    </tr>\n",
       "    <tr>\n",
       "      <th>5275</th>\n",
       "      <td>Merope Riddle</td>\n",
       "      <td>Merope Riddle</td>\n",
       "      <td>100</td>\n",
       "    </tr>\n",
       "    <tr>\n",
       "      <th>5280</th>\n",
       "      <td>Riddles' cook</td>\n",
       "      <td>Riddles' cook</td>\n",
       "      <td>100</td>\n",
       "    </tr>\n",
       "    <tr>\n",
       "      <th>5285</th>\n",
       "      <td>Riddles' maid</td>\n",
       "      <td>Riddles' maid</td>\n",
       "      <td>100</td>\n",
       "    </tr>\n",
       "    <tr>\n",
       "      <th>5290</th>\n",
       "      <td>Roberts's wife</td>\n",
       "      <td>Roberts's wife</td>\n",
       "      <td>100</td>\n",
       "    </tr>\n",
       "    <tr>\n",
       "      <th>5295</th>\n",
       "      <td>C. Roemmele</td>\n",
       "      <td>C. Roemmele</td>\n",
       "      <td>100</td>\n",
       "    </tr>\n",
       "    <tr>\n",
       "      <th>5300</th>\n",
       "      <td>Rosmerta</td>\n",
       "      <td>Rosmerta</td>\n",
       "      <td>100</td>\n",
       "    </tr>\n",
       "    <tr>\n",
       "      <th>5305</th>\n",
       "      <td>Skower</td>\n",
       "      <td>Skower</td>\n",
       "      <td>100</td>\n",
       "    </tr>\n",
       "    <tr>\n",
       "      <th>5310</th>\n",
       "      <td>Serpent of Slytherin</td>\n",
       "      <td>Serpent of Slytherin</td>\n",
       "      <td>100</td>\n",
       "    </tr>\n",
       "    <tr>\n",
       "      <th>5315</th>\n",
       "      <td>Sixth-Year Inquisitorial Squad Member</td>\n",
       "      <td>Sixth-Year Inquisitorial Squad Member</td>\n",
       "      <td>100</td>\n",
       "    </tr>\n",
       "    <tr>\n",
       "      <th>5320</th>\n",
       "      <td>Enid Smeek</td>\n",
       "      <td>Enid Smeek</td>\n",
       "      <td>100</td>\n",
       "    </tr>\n",
       "    <tr>\n",
       "      <th>5325</th>\n",
       "      <td>Smeltings nurse</td>\n",
       "      <td>Smeltings nurse</td>\n",
       "      <td>100</td>\n",
       "    </tr>\n",
       "    <tr>\n",
       "      <th>5330</th>\n",
       "      <td>Alicia Spinnet</td>\n",
       "      <td>Alicia Spinnet</td>\n",
       "      <td>100</td>\n",
       "    </tr>\n",
       "    <tr>\n",
       "      <th>5331</th>\n",
       "      <td>Alicia Spinnet</td>\n",
       "      <td>Alicia Spinett</td>\n",
       "      <td>93</td>\n",
       "    </tr>\n",
       "    <tr>\n",
       "      <th>5335</th>\n",
       "      <td>Winged St Mungo's patient</td>\n",
       "      <td>Winged St Mungo's patient</td>\n",
       "      <td>100</td>\n",
       "    </tr>\n",
       "    <tr>\n",
       "      <th>5340</th>\n",
       "      <td>The Fates</td>\n",
       "      <td>The Fates</td>\n",
       "      <td>100</td>\n",
       "    </tr>\n",
       "    <tr>\n",
       "      <th>5345</th>\n",
       "      <td>Theodore Nott's mother</td>\n",
       "      <td>Theodore Nott's mother</td>\n",
       "      <td>100</td>\n",
       "    </tr>\n",
       "    <tr>\n",
       "      <th>5350</th>\n",
       "      <td>Dean Thomas's mother</td>\n",
       "      <td>Dean Thomas's mother</td>\n",
       "      <td>100</td>\n",
       "    </tr>\n",
       "    <tr>\n",
       "      <th>5355</th>\n",
       "      <td>Sybill Trelawney</td>\n",
       "      <td>Sybill Trelawney</td>\n",
       "      <td>100</td>\n",
       "    </tr>\n",
       "    <tr>\n",
       "      <th>5360</th>\n",
       "      <td>Donaghan Tremlett's wife</td>\n",
       "      <td>Donaghan Tremlett's wife</td>\n",
       "      <td>100</td>\n",
       "    </tr>\n",
       "    <tr>\n",
       "      <th>5365</th>\n",
       "      <td>Trolley witch</td>\n",
       "      <td>Trolley witch</td>\n",
       "      <td>100</td>\n",
       "    </tr>\n",
       "    <tr>\n",
       "      <th>5370</th>\n",
       "      <td>Two little witches</td>\n",
       "      <td>Two little witches</td>\n",
       "      <td>100</td>\n",
       "    </tr>\n",
       "    <tr>\n",
       "      <th>5375</th>\n",
       "      <td>Tyra Teegarden</td>\n",
       "      <td>Tyra Teegarden</td>\n",
       "      <td>100</td>\n",
       "    </tr>\n",
       "    <tr>\n",
       "      <th>5380</th>\n",
       "      <td>Dolores Umbridge</td>\n",
       "      <td>Dolores Umbridge</td>\n",
       "      <td>100</td>\n",
       "    </tr>\n",
       "    <tr>\n",
       "      <th>5385</th>\n",
       "      <td>Romilda Vane's grandmother</td>\n",
       "      <td>Romilda Vane's grandmother</td>\n",
       "      <td>100</td>\n",
       "    </tr>\n",
       "    <tr>\n",
       "      <th>5390</th>\n",
       "      <td>Verity</td>\n",
       "      <td>? Verity</td>\n",
       "      <td>100</td>\n",
       "    </tr>\n",
       "    <tr>\n",
       "      <th>5391</th>\n",
       "      <td>Verity</td>\n",
       "      <td>Verity</td>\n",
       "      <td>100</td>\n",
       "    </tr>\n",
       "    <tr>\n",
       "      <th>5395</th>\n",
       "      <td>Wailing Widow</td>\n",
       "      <td>Wailing Widow</td>\n",
       "      <td>100</td>\n",
       "    </tr>\n",
       "    <tr>\n",
       "      <th>5400</th>\n",
       "      <td>Waitress at Luchino Caffe</td>\n",
       "      <td>Waitress at Luchino Caffe</td>\n",
       "      <td>100</td>\n",
       "    </tr>\n",
       "    <tr>\n",
       "      <th>5405</th>\n",
       "      <td>Wakanda</td>\n",
       "      <td>Wakanda</td>\n",
       "      <td>100</td>\n",
       "    </tr>\n",
       "    <tr>\n",
       "      <th>5410</th>\n",
       "      <td>Myrtle Warren</td>\n",
       "      <td>Myrtle Warren</td>\n",
       "      <td>100</td>\n",
       "    </tr>\n",
       "    <tr>\n",
       "      <th>5415</th>\n",
       "      <td>Myrtle Warren's mother</td>\n",
       "      <td>Myrtle Warren's mother</td>\n",
       "      <td>100</td>\n",
       "    </tr>\n",
       "    <tr>\n",
       "      <th>5416</th>\n",
       "      <td>Myrtle Warren's mother</td>\n",
       "      <td>Myrtle Warren's father</td>\n",
       "      <td>91</td>\n",
       "    </tr>\n",
       "    <tr>\n",
       "      <th>5420</th>\n",
       "      <td>Ginny Weasley</td>\n",
       "      <td>Ginny Weasley</td>\n",
       "      <td>100</td>\n",
       "    </tr>\n",
       "    <tr>\n",
       "      <th>5425</th>\n",
       "      <td>Rose Granger-Weasley</td>\n",
       "      <td>Rose Granger-Weasley</td>\n",
       "      <td>100</td>\n",
       "    </tr>\n",
       "    <tr>\n",
       "      <th>5430</th>\n",
       "      <td>Victoire Weasley</td>\n",
       "      <td>Victoire  Weasley</td>\n",
       "      <td>100</td>\n",
       "    </tr>\n",
       "    <tr>\n",
       "      <th>5431</th>\n",
       "      <td>Victoire Weasley</td>\n",
       "      <td>Victoire Weasley</td>\n",
       "      <td>100</td>\n",
       "    </tr>\n",
       "    <tr>\n",
       "      <th>5435</th>\n",
       "      <td>St Mungo's Welcome Witch</td>\n",
       "      <td>St Mungo's Welcome Witch</td>\n",
       "      <td>100</td>\n",
       "    </tr>\n",
       "    <tr>\n",
       "      <th>5440</th>\n",
       "      <td>Winky's grandmother</td>\n",
       "      <td>Winky's grandmother</td>\n",
       "      <td>100</td>\n",
       "    </tr>\n",
       "    <tr>\n",
       "      <th>5445</th>\n",
       "      <td>Winky's mother</td>\n",
       "      <td>Winky's mother</td>\n",
       "      <td>100</td>\n",
       "    </tr>\n",
       "    <tr>\n",
       "      <th>5450</th>\n",
       "      <td>Oliver Wood's mother</td>\n",
       "      <td>Oliver Wood's mother</td>\n",
       "      <td>100</td>\n",
       "    </tr>\n",
       "    <tr>\n",
       "      <th>5455</th>\n",
       "      <td>Blaise Zabini's mother</td>\n",
       "      <td>Blaise Zabini's mother</td>\n",
       "      <td>100</td>\n",
       "    </tr>\n",
       "  </tbody>\n",
       "</table>\n",
       "</div>"
      ],
      "text/plain": [
       "                                  name_sort  \\\n",
       "5230                  Portrait of a mermaid   \n",
       "5235                        Euphemia Potter   \n",
       "5240                 Molly Weasley's mother   \n",
       "5245                 Prime Minister's niece   \n",
       "5250                             Elsie Prod   \n",
       "5255                              Puddifoot   \n",
       "5260                       Helena Ravenclaw   \n",
       "5265                         Maisy Reynolds   \n",
       "5270                            Mary Riddle   \n",
       "5275                          Merope Riddle   \n",
       "5280                          Riddles' cook   \n",
       "5285                          Riddles' maid   \n",
       "5290                         Roberts's wife   \n",
       "5295                            C. Roemmele   \n",
       "5300                               Rosmerta   \n",
       "5305                                 Skower   \n",
       "5310                   Serpent of Slytherin   \n",
       "5315  Sixth-Year Inquisitorial Squad Member   \n",
       "5320                             Enid Smeek   \n",
       "5325                        Smeltings nurse   \n",
       "5330                         Alicia Spinnet   \n",
       "5331                         Alicia Spinnet   \n",
       "5335              Winged St Mungo's patient   \n",
       "5340                              The Fates   \n",
       "5345                 Theodore Nott's mother   \n",
       "5350                   Dean Thomas's mother   \n",
       "5355                       Sybill Trelawney   \n",
       "5360               Donaghan Tremlett's wife   \n",
       "5365                          Trolley witch   \n",
       "5370                     Two little witches   \n",
       "5375                         Tyra Teegarden   \n",
       "5380                       Dolores Umbridge   \n",
       "5385             Romilda Vane's grandmother   \n",
       "5390                                 Verity   \n",
       "5391                                 Verity   \n",
       "5395                          Wailing Widow   \n",
       "5400              Waitress at Luchino Caffe   \n",
       "5405                                Wakanda   \n",
       "5410                          Myrtle Warren   \n",
       "5415                 Myrtle Warren's mother   \n",
       "5416                 Myrtle Warren's mother   \n",
       "5420                          Ginny Weasley   \n",
       "5425                   Rose Granger-Weasley   \n",
       "5430                       Victoire Weasley   \n",
       "5431                       Victoire Weasley   \n",
       "5435               St Mungo's Welcome Witch   \n",
       "5440                    Winky's grandmother   \n",
       "5445                         Winky's mother   \n",
       "5450                   Oliver Wood's mother   \n",
       "5455                 Blaise Zabini's mother   \n",
       "\n",
       "                                 match_sort  score_sort  \n",
       "5230                  Portrait of a mermaid         100  \n",
       "5235                        Euphemia Potter         100  \n",
       "5240                 Molly Weasley's mother         100  \n",
       "5245                 Prime Minister's niece         100  \n",
       "5250                             Elsie Prod         100  \n",
       "5255                              Puddifoot         100  \n",
       "5260                       Helena Ravenclaw         100  \n",
       "5265                         Maisy Reynolds         100  \n",
       "5270                            Mary Riddle         100  \n",
       "5275                          Merope Riddle         100  \n",
       "5280                          Riddles' cook         100  \n",
       "5285                          Riddles' maid         100  \n",
       "5290                         Roberts's wife         100  \n",
       "5295                            C. Roemmele         100  \n",
       "5300                               Rosmerta         100  \n",
       "5305                                 Skower         100  \n",
       "5310                   Serpent of Slytherin         100  \n",
       "5315  Sixth-Year Inquisitorial Squad Member         100  \n",
       "5320                             Enid Smeek         100  \n",
       "5325                        Smeltings nurse         100  \n",
       "5330                         Alicia Spinnet         100  \n",
       "5331                         Alicia Spinett          93  \n",
       "5335              Winged St Mungo's patient         100  \n",
       "5340                              The Fates         100  \n",
       "5345                 Theodore Nott's mother         100  \n",
       "5350                   Dean Thomas's mother         100  \n",
       "5355                       Sybill Trelawney         100  \n",
       "5360               Donaghan Tremlett's wife         100  \n",
       "5365                          Trolley witch         100  \n",
       "5370                     Two little witches         100  \n",
       "5375                         Tyra Teegarden         100  \n",
       "5380                       Dolores Umbridge         100  \n",
       "5385             Romilda Vane's grandmother         100  \n",
       "5390                               ? Verity         100  \n",
       "5391                                 Verity         100  \n",
       "5395                          Wailing Widow         100  \n",
       "5400              Waitress at Luchino Caffe         100  \n",
       "5405                                Wakanda         100  \n",
       "5410                          Myrtle Warren         100  \n",
       "5415                 Myrtle Warren's mother         100  \n",
       "5416                 Myrtle Warren's father          91  \n",
       "5420                          Ginny Weasley         100  \n",
       "5425                   Rose Granger-Weasley         100  \n",
       "5430                      Victoire  Weasley         100  \n",
       "5431                       Victoire Weasley         100  \n",
       "5435               St Mungo's Welcome Witch         100  \n",
       "5440                    Winky's grandmother         100  \n",
       "5445                         Winky's mother         100  \n",
       "5450                   Oliver Wood's mother         100  \n",
       "5455                 Blaise Zabini's mother         100  "
      ]
     },
     "execution_count": 694,
     "metadata": {},
     "output_type": "execute_result"
    }
   ],
   "source": [
    "similarity_sort[similarity_sort.score_sort > 90].tail(50)"
   ]
  },
  {
   "cell_type": "markdown",
   "metadata": {},
   "source": [
    "Looks like we have some spelling mistakes here. And but that the fuzz sort did a good job. I'll now need to figure out how to deal with all these. \n",
    "\n",
    "I'm going to take a look at Lily Potter first. Because I see there are two entries. "
   ]
  },
  {
   "cell_type": "code",
   "execution_count": 608,
   "metadata": {},
   "outputs": [
    {
     "data": {
      "text/html": [
       "<div>\n",
       "<style scoped>\n",
       "    .dataframe tbody tr th:only-of-type {\n",
       "        vertical-align: middle;\n",
       "    }\n",
       "\n",
       "    .dataframe tbody tr th {\n",
       "        vertical-align: top;\n",
       "    }\n",
       "\n",
       "    .dataframe thead th {\n",
       "        text-align: right;\n",
       "    }\n",
       "</style>\n",
       "<table border=\"1\" class=\"dataframe\">\n",
       "  <thead>\n",
       "    <tr style=\"text-align: right;\">\n",
       "      <th></th>\n",
       "      <th>name</th>\n",
       "      <th>info</th>\n",
       "      <th>first_last</th>\n",
       "    </tr>\n",
       "  </thead>\n",
       "  <tbody>\n",
       "    <tr>\n",
       "      <th>487</th>\n",
       "      <td>Potter, Lily</td>\n",
       "      <td>Daughter of Ginny and Harry Potter.</td>\n",
       "      <td>Lily Potter</td>\n",
       "    </tr>\n",
       "    <tr>\n",
       "      <th>488</th>\n",
       "      <td>Potter, Lily</td>\n",
       "      <td>(maiden name: Lily Evans) Lily Potter is the mother of Harry Potter. She was a member of the Order of the Phoenix and the wife of James Potter (above). She was quite popular in school, and was muggle born. She, like Harry, was in the Slug Club. According to Slughorn, she was good at everything (that had to do with school). Her along with her husband were killed by Lord Voldemort in attempt to get their son, Harry. She would not let Voldemort kill Harry, so he killed her. This made a protective shield around Harry so Voldemort could not kill him. This spell was then broken in Book 4 when Voldemort took Harry’s blood so that he could now kill him.</td>\n",
       "      <td>Lily Potter</td>\n",
       "    </tr>\n",
       "  </tbody>\n",
       "</table>\n",
       "</div>"
      ],
      "text/plain": [
       "             name  \\\n",
       "487  Potter, Lily   \n",
       "488  Potter, Lily   \n",
       "\n",
       "                                                                                                                                                                                                                                                                                                                                                                                                                                                                                                                                                                                                                                                                               info  \\\n",
       "487                                                                                                                                                                                                                                                                                                                                                                                                                                                                                                                                                                                                                                             Daughter of Ginny and Harry Potter.   \n",
       "488   (maiden name: Lily Evans) Lily Potter is the mother of Harry Potter. She was a member of the Order of the Phoenix and the wife of James Potter (above). She was quite popular in school, and was muggle born. She, like Harry, was in the Slug Club. According to Slughorn, she was good at everything (that had to do with school). Her along with her husband were killed by Lord Voldemort in attempt to get their son, Harry. She would not let Voldemort kill Harry, so he killed her. This made a protective shield around Harry so Voldemort could not kill him. This spell was then broken in Book 4 when Voldemort took Harry’s blood so that he could now kill him.   \n",
       "\n",
       "      first_last  \n",
       "487  Lily Potter  \n",
       "488  Lily Potter  "
      ]
     },
     "execution_count": 608,
     "metadata": {},
     "output_type": "execute_result"
    }
   ],
   "source": [
    "df[df.first_last == 'Lily Potter']"
   ]
  },
  {
   "cell_type": "markdown",
   "metadata": {},
   "source": [
    "Clearly one of these is Lily Potter Harry's Mom, (Lily J. Potter) and one of them is Harry's daughter (Lily L.Potter). I'll need a way to figure out how to sort through this programatically. \n",
    "\n",
    "Let me first look in the JSON and see what's in there."
   ]
  },
  {
   "cell_type": "code",
   "execution_count": 609,
   "metadata": {},
   "outputs": [
    {
     "data": {
      "text/plain": [
       "[{'id': 679,\n",
       "  'name': 'Lily L. Potter',\n",
       "  'birth': 'Between 1 September 2007 and 31 August 2008',\n",
       "  'death': None,\n",
       "  'species': 'Human',\n",
       "  'ancestry': 'Half-blood',\n",
       "  'gender': 'Female',\n",
       "  'hair_color': 'Red',\n",
       "  'eye_color': None,\n",
       "  'wand': None,\n",
       "  'patronus': None,\n",
       "  'house': 'Gryffindor',\n",
       "  'associated_groups': ['Potter family',\n",
       "   'Weasley family',\n",
       "   'Prewett family',\n",
       "   'Hogwarts School of Witchcraft and Wizardry',\n",
       "   'Gryffindor'],\n",
       "  'books_featured_in': [7]}]"
      ]
     },
     "execution_count": 609,
     "metadata": {},
     "output_type": "execute_result"
    }
   ],
   "source": [
    "[person for person in data if person['name'] == 'Lily L. Potter']"
   ]
  },
  {
   "cell_type": "markdown",
   "metadata": {},
   "source": [
    "I need to change individual entries. Looks like the JSON has the middle inital. Which is perfect. Because eventually I want the info from the JSON and just add the character bio info from the dataframe. So I need to change the entry in the dataframe to match the one in the JSON, then make sure the info maps correctly to the JSON. \n",
    "\n",
    "`.at` changes can select an index number and a column name. [This link](https://re-thought.com/how-to-change-or-update-a-cell-value-in-python-pandas-dataframe/) helped me figure that out."
   ]
  },
  {
   "cell_type": "code",
   "execution_count": 687,
   "metadata": {},
   "outputs": [],
   "source": [
    "# change harry's daughter's name to Lily L\n",
    "df.at[487, 'name']= 'Potter, Lily L.'"
   ]
  },
  {
   "cell_type": "code",
   "execution_count": 678,
   "metadata": {},
   "outputs": [],
   "source": [
    "# change harry's mom's name to Lily J.\n",
    "df.at[488, 'name'] = 'Potter, Lily J.'"
   ]
  },
  {
   "cell_type": "code",
   "execution_count": 679,
   "metadata": {},
   "outputs": [
    {
     "data": {
      "text/plain": [
       "'Potter, Lily J.'"
      ]
     },
     "execution_count": 679,
     "metadata": {},
     "output_type": "execute_result"
    }
   ],
   "source": [
    "df.at[488, 'name']"
   ]
  },
  {
   "cell_type": "markdown",
   "metadata": {},
   "source": [
    "### My Plan for straightening out this JSON/DF situation\n",
    "\n",
    "**Step 1**\n",
    "- get names into two seperate lists. JSON list and df list\n",
    "\n",
    "**Step 2** \n",
    "- Compare names to each other using the fuzz token sort. Figure out how to compare two lists and not just one big list\n",
    "\n",
    "**Step 3** \n",
    "- Most of the token sort ratios seemed to be good matches. So if it's 100 we won't have to do anything. Use threshold of 90 for further evaluation. \n",
    "- Maybe we'll have the ones that are between 90 and 99 print out? Add to a separate dataframe for review.\n"
   ]
  },
  {
   "cell_type": "code",
   "execution_count": 704,
   "metadata": {},
   "outputs": [],
   "source": [
    "# think there's a better way to do this with series\n",
    "\n",
    "# create series from datframe\n",
    "info_series = (df.first_last).str.strip().unique()\n",
    "\n",
    "# append the character list\n",
    "json_series = (pd.Series(char_list)).str.strip().unique()\n",
    "\n",
    "info_list = list(info_series)\n",
    "\n",
    "json_list = list(json_series)"
   ]
  },
  {
   "cell_type": "code",
   "execution_count": null,
   "metadata": {},
   "outputs": [],
   "source": [
    "#Create tuples of brand names, matched brand names, and the score\n",
    "score_sort = [(x,) + i\n",
    "             for x in unique_names_list\n",
    "             for i in process.extract(x, unique_names_list, scorer=fuzz.token_sort_ratio)]\n",
    "#Create a dataframe from the tuples\n",
    "similarity_sort = pd.DataFrame(score_sort, columns=['name_sort','match_sort','score_sort'])\n",
    "similarity_sort.head()"
   ]
  },
  {
   "cell_type": "code",
   "execution_count": 742,
   "metadata": {},
   "outputs": [],
   "source": [
    "def check_for_fuzzy_match(string1, a_list):\n",
    "    \n",
    "    score_list = process.extract(string1, a_list, scorer=fuzz.token_sort_ratio)\n",
    "    \n",
    "    score_df = pd.DataFrame(score_list, columns=['comparison_name','score'])\n",
    "    \n",
    "    score_df['name'] = name\n",
    "    \n",
    "    return score_df"
   ]
  },
  {
   "cell_type": "code",
   "execution_count": 743,
   "metadata": {},
   "outputs": [
    {
     "data": {
      "text/html": [
       "<div>\n",
       "<style scoped>\n",
       "    .dataframe tbody tr th:only-of-type {\n",
       "        vertical-align: middle;\n",
       "    }\n",
       "\n",
       "    .dataframe tbody tr th {\n",
       "        vertical-align: top;\n",
       "    }\n",
       "\n",
       "    .dataframe thead th {\n",
       "        text-align: right;\n",
       "    }\n",
       "</style>\n",
       "<table border=\"1\" class=\"dataframe\">\n",
       "  <thead>\n",
       "    <tr style=\"text-align: right;\">\n",
       "      <th></th>\n",
       "      <th>comparison_name</th>\n",
       "      <th>score</th>\n",
       "      <th>name</th>\n",
       "    </tr>\n",
       "  </thead>\n",
       "  <tbody>\n",
       "    <tr>\n",
       "      <th>0</th>\n",
       "      <td>Hannah Abbot</td>\n",
       "      <td>96</td>\n",
       "      <td>Euan Abercrombie</td>\n",
       "    </tr>\n",
       "    <tr>\n",
       "      <th>1</th>\n",
       "      <td>Blott. ?s</td>\n",
       "      <td>50</td>\n",
       "      <td>Euan Abercrombie</td>\n",
       "    </tr>\n",
       "    <tr>\n",
       "      <th>2</th>\n",
       "      <td>Flourish and Blotts (Manager)</td>\n",
       "      <td>50</td>\n",
       "      <td>Euan Abercrombie</td>\n",
       "    </tr>\n",
       "    <tr>\n",
       "      <th>3</th>\n",
       "      <td>Carlotta Pinkstone</td>\n",
       "      <td>45</td>\n",
       "      <td>Euan Abercrombie</td>\n",
       "    </tr>\n",
       "    <tr>\n",
       "      <th>4</th>\n",
       "      <td>Bandon Banshee</td>\n",
       "      <td>44</td>\n",
       "      <td>Euan Abercrombie</td>\n",
       "    </tr>\n",
       "  </tbody>\n",
       "</table>\n",
       "</div>"
      ],
      "text/plain": [
       "                 comparison_name  score              name\n",
       "0                   Hannah Abbot     96  Euan Abercrombie\n",
       "1                      Blott. ?s     50  Euan Abercrombie\n",
       "2  Flourish and Blotts (Manager)     50  Euan Abercrombie\n",
       "3             Carlotta Pinkstone     45  Euan Abercrombie\n",
       "4                 Bandon Banshee     44  Euan Abercrombie"
      ]
     },
     "execution_count": 743,
     "metadata": {},
     "output_type": "execute_result"
    }
   ],
   "source": [
    "my_string = 'Hannah Abbott'\n",
    "\n",
    "check_for_fuzzy_match(my_string, info_list)"
   ]
  },
  {
   "cell_type": "code",
   "execution_count": 744,
   "metadata": {},
   "outputs": [],
   "source": [
    "top_scores = pd.DataFrame(columns = ['name', 'comparison_name', 'score'])\n",
    "\n",
    "# loop through the json _name list\n",
    "for name in json_list:\n",
    "    \n",
    "    # get the list for each name with the fuzzy match function\n",
    "    score_df = check_for_fuzzy_match(name, info_list)\n",
    "    \n",
    "    # print out the name we're looking at, and the top match\n",
    "    top_scores = top_scores.append(score_df.head(1), ignore_index=True)\n",
    "    \n",
    "    "
   ]
  },
  {
   "cell_type": "code",
   "execution_count": 745,
   "metadata": {},
   "outputs": [
    {
     "data": {
      "text/html": [
       "<div>\n",
       "<style scoped>\n",
       "    .dataframe tbody tr th:only-of-type {\n",
       "        vertical-align: middle;\n",
       "    }\n",
       "\n",
       "    .dataframe tbody tr th {\n",
       "        vertical-align: top;\n",
       "    }\n",
       "\n",
       "    .dataframe thead th {\n",
       "        text-align: right;\n",
       "    }\n",
       "</style>\n",
       "<table border=\"1\" class=\"dataframe\">\n",
       "  <thead>\n",
       "    <tr style=\"text-align: right;\">\n",
       "      <th></th>\n",
       "      <th>name</th>\n",
       "      <th>comparison_name</th>\n",
       "      <th>score</th>\n",
       "    </tr>\n",
       "  </thead>\n",
       "  <tbody>\n",
       "    <tr>\n",
       "      <th>0</th>\n",
       "      <td>Euan Abercrombie</td>\n",
       "      <td>Euan Abercrombie</td>\n",
       "      <td>100</td>\n",
       "    </tr>\n",
       "    <tr>\n",
       "      <th>1</th>\n",
       "      <td>Stewart Ackerley</td>\n",
       "      <td>Steward Ackerley</td>\n",
       "      <td>94</td>\n",
       "    </tr>\n",
       "    <tr>\n",
       "      <th>2</th>\n",
       "      <td>African prince</td>\n",
       "      <td>Adrian Pucey</td>\n",
       "      <td>69</td>\n",
       "    </tr>\n",
       "    <tr>\n",
       "      <th>3</th>\n",
       "      <td>Agnes's son</td>\n",
       "      <td>Susan Bones</td>\n",
       "      <td>64</td>\n",
       "    </tr>\n",
       "    <tr>\n",
       "      <th>4</th>\n",
       "      <td>Cornelius Agrippa</td>\n",
       "      <td>Cornelius Agrippa</td>\n",
       "      <td>100</td>\n",
       "    </tr>\n",
       "    <tr>\n",
       "      <th>5</th>\n",
       "      <td>Albino peacock</td>\n",
       "      <td>Apolline Delacour</td>\n",
       "      <td>58</td>\n",
       "    </tr>\n",
       "    <tr>\n",
       "      <th>6</th>\n",
       "      <td>Arkie Alderton</td>\n",
       "      <td>Archibald Alderton</td>\n",
       "      <td>75</td>\n",
       "    </tr>\n",
       "    <tr>\n",
       "      <th>7</th>\n",
       "      <td>Angus</td>\n",
       "      <td>Fang</td>\n",
       "      <td>67</td>\n",
       "    </tr>\n",
       "    <tr>\n",
       "      <th>8</th>\n",
       "      <td>Antioch Peverell's killer</td>\n",
       "      <td>Antioch Peverell</td>\n",
       "      <td>78</td>\n",
       "    </tr>\n",
       "    <tr>\n",
       "      <th>9</th>\n",
       "      <td>Apothecary shopkeeper</td>\n",
       "      <td>Albus Severus Potter</td>\n",
       "      <td>54</td>\n",
       "    </tr>\n",
       "  </tbody>\n",
       "</table>\n",
       "</div>"
      ],
      "text/plain": [
       "                        name       comparison_name score\n",
       "0           Euan Abercrombie      Euan Abercrombie   100\n",
       "1           Stewart Ackerley      Steward Ackerley    94\n",
       "2             African prince          Adrian Pucey    69\n",
       "3                Agnes's son           Susan Bones    64\n",
       "4          Cornelius Agrippa     Cornelius Agrippa   100\n",
       "5             Albino peacock     Apolline Delacour    58\n",
       "6             Arkie Alderton    Archibald Alderton    75\n",
       "7                      Angus                  Fang    67\n",
       "8  Antioch Peverell's killer      Antioch Peverell    78\n",
       "9      Apothecary shopkeeper  Albus Severus Potter    54"
      ]
     },
     "execution_count": 745,
     "metadata": {},
     "output_type": "execute_result"
    }
   ],
   "source": [
    "# haha yes it works! \n",
    "top_scores.head(10)"
   ]
  },
  {
   "cell_type": "code",
   "execution_count": 760,
   "metadata": {},
   "outputs": [
    {
     "data": {
      "text/html": [
       "<div>\n",
       "<style scoped>\n",
       "    .dataframe tbody tr th:only-of-type {\n",
       "        vertical-align: middle;\n",
       "    }\n",
       "\n",
       "    .dataframe tbody tr th {\n",
       "        vertical-align: top;\n",
       "    }\n",
       "\n",
       "    .dataframe thead th {\n",
       "        text-align: right;\n",
       "    }\n",
       "</style>\n",
       "<table border=\"1\" class=\"dataframe\">\n",
       "  <thead>\n",
       "    <tr style=\"text-align: right;\">\n",
       "      <th></th>\n",
       "      <th>name</th>\n",
       "      <th>comparison_name</th>\n",
       "      <th>score</th>\n",
       "    </tr>\n",
       "  </thead>\n",
       "  <tbody>\n",
       "    <tr>\n",
       "      <th>236</th>\n",
       "      <td>Viktor Krum</td>\n",
       "      <td>Victor Krum</td>\n",
       "      <td>91</td>\n",
       "    </tr>\n",
       "    <tr>\n",
       "      <th>109</th>\n",
       "      <td>Patrick Delaney-Podmore</td>\n",
       "      <td>Sir Patrick Delaney Podmore</td>\n",
       "      <td>92</td>\n",
       "    </tr>\n",
       "    <tr>\n",
       "      <th>324</th>\n",
       "      <td>James Potter I</td>\n",
       "      <td>James Potter</td>\n",
       "      <td>92</td>\n",
       "    </tr>\n",
       "    <tr>\n",
       "      <th>601</th>\n",
       "      <td>Eloise Midgen</td>\n",
       "      <td>Eloise Midget</td>\n",
       "      <td>92</td>\n",
       "    </tr>\n",
       "    <tr>\n",
       "      <th>255</th>\n",
       "      <td>Remus Lupin</td>\n",
       "      <td>Remus J. Lupin</td>\n",
       "      <td>92</td>\n",
       "    </tr>\n",
       "    <tr>\n",
       "      <th>147</th>\n",
       "      <td>Benjy Fenwick</td>\n",
       "      <td>Benji Fenwick</td>\n",
       "      <td>92</td>\n",
       "    </tr>\n",
       "    <tr>\n",
       "      <th>276</th>\n",
       "      <td>Nicholas de Mimsy-Porpington</td>\n",
       "      <td>Sir Nicholas de Mimsey Porpington</td>\n",
       "      <td>92</td>\n",
       "    </tr>\n",
       "    <tr>\n",
       "      <th>523</th>\n",
       "      <td>Fawcett</td>\n",
       "      <td>Fawcetts</td>\n",
       "      <td>93</td>\n",
       "    </tr>\n",
       "    <tr>\n",
       "      <th>130</th>\n",
       "      <td>Aberforth Dumbledore</td>\n",
       "      <td>Alberforth Dumbeldore</td>\n",
       "      <td>93</td>\n",
       "    </tr>\n",
       "    <tr>\n",
       "      <th>429</th>\n",
       "      <td>Charles Weasley</td>\n",
       "      <td>Charlie Weasley</td>\n",
       "      <td>93</td>\n",
       "    </tr>\n",
       "    <tr>\n",
       "      <th>614</th>\n",
       "      <td>Norberta</td>\n",
       "      <td>Norbert</td>\n",
       "      <td>93</td>\n",
       "    </tr>\n",
       "    <tr>\n",
       "      <th>659</th>\n",
       "      <td>Alicia Spinnet</td>\n",
       "      <td>Alicia Spinett</td>\n",
       "      <td>93</td>\n",
       "    </tr>\n",
       "    <tr>\n",
       "      <th>57</th>\n",
       "      <td>Pierre Bonaccord</td>\n",
       "      <td>Pierre Bonnacord</td>\n",
       "      <td>94</td>\n",
       "    </tr>\n",
       "    <tr>\n",
       "      <th>1</th>\n",
       "      <td>Stewart Ackerley</td>\n",
       "      <td>Steward Ackerley</td>\n",
       "      <td>94</td>\n",
       "    </tr>\n",
       "    <tr>\n",
       "      <th>71</th>\n",
       "      <td>Caractacus Burke</td>\n",
       "      <td>Caractucus Burke</td>\n",
       "      <td>94</td>\n",
       "    </tr>\n",
       "    <tr>\n",
       "      <th>456</th>\n",
       "      <td>Hannah Abbott</td>\n",
       "      <td>Hannah Abbot</td>\n",
       "      <td>96</td>\n",
       "    </tr>\n",
       "    <tr>\n",
       "      <th>210</th>\n",
       "      <td>Terence Higgs</td>\n",
       "      <td>Terrence Higgs</td>\n",
       "      <td>96</td>\n",
       "    </tr>\n",
       "    <tr>\n",
       "      <th>102</th>\n",
       "      <td>Barnabas Cuffe</td>\n",
       "      <td>Barabas Cuffe</td>\n",
       "      <td>96</td>\n",
       "    </tr>\n",
       "    <tr>\n",
       "      <th>92</th>\n",
       "      <td>Dennis Creevey</td>\n",
       "      <td>Dennis Creevy</td>\n",
       "      <td>96</td>\n",
       "    </tr>\n",
       "    <tr>\n",
       "      <th>91</th>\n",
       "      <td>Colin Creevey</td>\n",
       "      <td>Colin Creevy</td>\n",
       "      <td>96</td>\n",
       "    </tr>\n",
       "  </tbody>\n",
       "</table>\n",
       "</div>"
      ],
      "text/plain": [
       "                             name                    comparison_name score\n",
       "236                   Viktor Krum                        Victor Krum    91\n",
       "109       Patrick Delaney-Podmore        Sir Patrick Delaney Podmore    92\n",
       "324                James Potter I                       James Potter    92\n",
       "601                 Eloise Midgen                      Eloise Midget    92\n",
       "255                   Remus Lupin                     Remus J. Lupin    92\n",
       "147                 Benjy Fenwick                      Benji Fenwick    92\n",
       "276  Nicholas de Mimsy-Porpington  Sir Nicholas de Mimsey Porpington    92\n",
       "523                       Fawcett                           Fawcetts    93\n",
       "130          Aberforth Dumbledore              Alberforth Dumbeldore    93\n",
       "429               Charles Weasley                    Charlie Weasley    93\n",
       "614                      Norberta                            Norbert    93\n",
       "659                Alicia Spinnet                     Alicia Spinett    93\n",
       "57               Pierre Bonaccord                   Pierre Bonnacord    94\n",
       "1                Stewart Ackerley                   Steward Ackerley    94\n",
       "71               Caractacus Burke                   Caractucus Burke    94\n",
       "456                 Hannah Abbott                       Hannah Abbot    96\n",
       "210                 Terence Higgs                     Terrence Higgs    96\n",
       "102                Barnabas Cuffe                      Barabas Cuffe    96\n",
       "92                 Dennis Creevey                      Dennis Creevy    96\n",
       "91                  Colin Creevey                       Colin Creevy    96"
      ]
     },
     "execution_count": 760,
     "metadata": {},
     "output_type": "execute_result"
    }
   ],
   "source": [
    "top_scores.loc[top_scores.score > 90].sort_values(by = 'score').head(20)"
   ]
  },
  {
   "cell_type": "markdown",
   "metadata": {},
   "source": [
    "Excellent. Now I have a dataframe with the scores above 90. So I can filter through these and see the spelling mistakes and all that. "
   ]
  },
  {
   "cell_type": "code",
   "execution_count": null,
   "metadata": {},
   "outputs": [],
   "source": []
  }
 ],
 "metadata": {
  "kernelspec": {
   "display_name": "Python 3",
   "language": "python",
   "name": "python3"
  },
  "language_info": {
   "codemirror_mode": {
    "name": "ipython",
    "version": 3
   },
   "file_extension": ".py",
   "mimetype": "text/x-python",
   "name": "python",
   "nbconvert_exporter": "python",
   "pygments_lexer": "ipython3",
   "version": "3.8.5"
  }
 },
 "nbformat": 4,
 "nbformat_minor": 4
}
